{
 "cells": [
  {
   "cell_type": "markdown",
   "metadata": {},
   "source": [
    "# KNN Recommender "
   ]
  },
  {
   "cell_type": "markdown",
   "metadata": {},
   "source": [
    "👉 K-Nearest-Neighbors (KNN) can be used to model and make predictions, but they can alternatively be utilized to find the closest points in a dataset.  \n",
    "\n",
    "👨🏻‍🏫 In this recap, we will use a KNN model to create a basic music recommender system."
   ]
  },
  {
   "cell_type": "code",
   "execution_count": 23,
   "metadata": {},
   "outputs": [
    {
     "data": {
      "text/html": [
       "<div>\n",
       "<style scoped>\n",
       "    .dataframe tbody tr th:only-of-type {\n",
       "        vertical-align: middle;\n",
       "    }\n",
       "\n",
       "    .dataframe tbody tr th {\n",
       "        vertical-align: top;\n",
       "    }\n",
       "\n",
       "    .dataframe thead th {\n",
       "        text-align: right;\n",
       "    }\n",
       "</style>\n",
       "<table border=\"1\" class=\"dataframe\">\n",
       "  <thead>\n",
       "    <tr style=\"text-align: right;\">\n",
       "      <th></th>\n",
       "      <th>name</th>\n",
       "      <th>artists</th>\n",
       "      <th>popularity</th>\n",
       "      <th>danceability</th>\n",
       "      <th>valence</th>\n",
       "      <th>energy</th>\n",
       "      <th>explicit</th>\n",
       "      <th>key</th>\n",
       "      <th>liveness</th>\n",
       "      <th>loudness</th>\n",
       "      <th>speechiness</th>\n",
       "      <th>tempo</th>\n",
       "    </tr>\n",
       "  </thead>\n",
       "  <tbody>\n",
       "    <tr>\n",
       "      <th>0</th>\n",
       "      <td>We're For The Dark - Remastered 2010</td>\n",
       "      <td>['Badfinger']</td>\n",
       "      <td>22</td>\n",
       "      <td>0.678</td>\n",
       "      <td>0.559</td>\n",
       "      <td>0.432</td>\n",
       "      <td>0</td>\n",
       "      <td>3</td>\n",
       "      <td>0.0727</td>\n",
       "      <td>-12.696</td>\n",
       "      <td>0.0334</td>\n",
       "      <td>117.674</td>\n",
       "    </tr>\n",
       "    <tr>\n",
       "      <th>1</th>\n",
       "      <td>Sixty Years On - Piano Demo</td>\n",
       "      <td>['Elton John']</td>\n",
       "      <td>25</td>\n",
       "      <td>0.456</td>\n",
       "      <td>0.259</td>\n",
       "      <td>0.368</td>\n",
       "      <td>0</td>\n",
       "      <td>6</td>\n",
       "      <td>0.1560</td>\n",
       "      <td>-10.692</td>\n",
       "      <td>0.0280</td>\n",
       "      <td>143.783</td>\n",
       "    </tr>\n",
       "    <tr>\n",
       "      <th>2</th>\n",
       "      <td>Got to Find Another Way</td>\n",
       "      <td>['The Guess Who']</td>\n",
       "      <td>21</td>\n",
       "      <td>0.433</td>\n",
       "      <td>0.833</td>\n",
       "      <td>0.724</td>\n",
       "      <td>0</td>\n",
       "      <td>0</td>\n",
       "      <td>0.1700</td>\n",
       "      <td>-9.803</td>\n",
       "      <td>0.0378</td>\n",
       "      <td>84.341</td>\n",
       "    </tr>\n",
       "    <tr>\n",
       "      <th>3</th>\n",
       "      <td>Feelin' Alright - Live At The Fillmore East/1970</td>\n",
       "      <td>['Joe Cocker']</td>\n",
       "      <td>22</td>\n",
       "      <td>0.436</td>\n",
       "      <td>0.870</td>\n",
       "      <td>0.914</td>\n",
       "      <td>0</td>\n",
       "      <td>5</td>\n",
       "      <td>0.8550</td>\n",
       "      <td>-6.955</td>\n",
       "      <td>0.0610</td>\n",
       "      <td>174.005</td>\n",
       "    </tr>\n",
       "    <tr>\n",
       "      <th>4</th>\n",
       "      <td>Caravan - Take 7</td>\n",
       "      <td>['Van Morrison']</td>\n",
       "      <td>23</td>\n",
       "      <td>0.669</td>\n",
       "      <td>0.564</td>\n",
       "      <td>0.412</td>\n",
       "      <td>0</td>\n",
       "      <td>7</td>\n",
       "      <td>0.4010</td>\n",
       "      <td>-13.095</td>\n",
       "      <td>0.0679</td>\n",
       "      <td>78.716</td>\n",
       "    </tr>\n",
       "  </tbody>\n",
       "</table>\n",
       "</div>"
      ],
      "text/plain": [
       "                                               name            artists  \\\n",
       "0              We're For The Dark - Remastered 2010      ['Badfinger']   \n",
       "1                       Sixty Years On - Piano Demo     ['Elton John']   \n",
       "2                           Got to Find Another Way  ['The Guess Who']   \n",
       "3  Feelin' Alright - Live At The Fillmore East/1970     ['Joe Cocker']   \n",
       "4                                  Caravan - Take 7   ['Van Morrison']   \n",
       "\n",
       "   popularity  danceability  valence  energy  explicit  key  liveness  \\\n",
       "0          22         0.678    0.559   0.432         0    3    0.0727   \n",
       "1          25         0.456    0.259   0.368         0    6    0.1560   \n",
       "2          21         0.433    0.833   0.724         0    0    0.1700   \n",
       "3          22         0.436    0.870   0.914         0    5    0.8550   \n",
       "4          23         0.669    0.564   0.412         0    7    0.4010   \n",
       "\n",
       "   loudness  speechiness    tempo  \n",
       "0   -12.696       0.0334  117.674  \n",
       "1   -10.692       0.0280  143.783  \n",
       "2    -9.803       0.0378   84.341  \n",
       "3    -6.955       0.0610  174.005  \n",
       "4   -13.095       0.0679   78.716  "
      ]
     },
     "execution_count": 23,
     "metadata": {},
     "output_type": "execute_result"
    }
   ],
   "source": [
    "import pandas as pd\n",
    "\n",
    "url = 'https://wagon-public-datasets.s3.amazonaws.com/Machine%20Learning%20Datasets/ML_spotify_data.csv'\n",
    "\n",
    "# Using pandas, load the data from the provided URL\n",
    "# $CHALLENGIFY_BEGIN\n",
    "df = pd.read_csv(url)\n",
    "\n",
    "df.head()\n",
    "# $CHALLENGIFY_END"
   ]
  },
  {
   "cell_type": "markdown",
   "metadata": {},
   "source": [
    "🎯 Let's find songs that are \"similar\" to Queen's mythical *Another one bites the dust*."
   ]
  },
  {
   "cell_type": "code",
   "execution_count": 8,
   "metadata": {},
   "outputs": [
    {
     "data": {
      "text/html": [
       "<div>\n",
       "<style scoped>\n",
       "    .dataframe tbody tr th:only-of-type {\n",
       "        vertical-align: middle;\n",
       "    }\n",
       "\n",
       "    .dataframe tbody tr th {\n",
       "        vertical-align: top;\n",
       "    }\n",
       "\n",
       "    .dataframe thead th {\n",
       "        text-align: right;\n",
       "    }\n",
       "</style>\n",
       "<table border=\"1\" class=\"dataframe\">\n",
       "  <thead>\n",
       "    <tr style=\"text-align: right;\">\n",
       "      <th></th>\n",
       "      <th>name</th>\n",
       "      <th>artists</th>\n",
       "      <th>popularity</th>\n",
       "      <th>danceability</th>\n",
       "      <th>valence</th>\n",
       "      <th>energy</th>\n",
       "      <th>explicit</th>\n",
       "      <th>key</th>\n",
       "      <th>liveness</th>\n",
       "      <th>loudness</th>\n",
       "      <th>speechiness</th>\n",
       "      <th>tempo</th>\n",
       "    </tr>\n",
       "  </thead>\n",
       "  <tbody>\n",
       "    <tr>\n",
       "      <th>4295</th>\n",
       "      <td>Another One Bites The Dust - Live at Wembley '86</td>\n",
       "      <td>['Queen']</td>\n",
       "      <td>29</td>\n",
       "      <td>0.534</td>\n",
       "      <td>0.114</td>\n",
       "      <td>0.984</td>\n",
       "      <td>0</td>\n",
       "      <td>4</td>\n",
       "      <td>0.982</td>\n",
       "      <td>-5.058</td>\n",
       "      <td>0.297</td>\n",
       "      <td>115.991</td>\n",
       "    </tr>\n",
       "  </tbody>\n",
       "</table>\n",
       "</div>"
      ],
      "text/plain": [
       "                                                  name    artists  popularity  \\\n",
       "4295  Another One Bites The Dust - Live at Wembley '86  ['Queen']          29   \n",
       "\n",
       "      danceability  valence  energy  explicit  key  liveness  loudness  \\\n",
       "4295         0.534    0.114   0.984         0    4     0.982    -5.058   \n",
       "\n",
       "      speechiness    tempo  \n",
       "4295        0.297  115.991  "
      ]
     },
     "execution_count": 8,
     "metadata": {},
     "output_type": "execute_result"
    }
   ],
   "source": [
    "queen_song = df.iloc[4295:4296] # Another one bites the dust - Queen\n",
    "\n",
    "queen_song"
   ]
  },
  {
   "cell_type": "markdown",
   "metadata": {},
   "source": [
    "## 1. Calculating the distances"
   ]
  },
  {
   "cell_type": "markdown",
   "metadata": {},
   "source": [
    "👇 First, train the KNN to have it learn the distances between each observation of the dataset.  \n",
    "Since we are only concerned by the similarity of features between the songs, it doesn't matter which target it is fitted to."
   ]
  },
  {
   "cell_type": "code",
   "execution_count": 10,
   "metadata": {},
   "outputs": [
    {
     "data": {
      "text/html": [
       "<div>\n",
       "<style scoped>\n",
       "    .dataframe tbody tr th:only-of-type {\n",
       "        vertical-align: middle;\n",
       "    }\n",
       "\n",
       "    .dataframe tbody tr th {\n",
       "        vertical-align: top;\n",
       "    }\n",
       "\n",
       "    .dataframe thead th {\n",
       "        text-align: right;\n",
       "    }\n",
       "</style>\n",
       "<table border=\"1\" class=\"dataframe\">\n",
       "  <thead>\n",
       "    <tr style=\"text-align: right;\">\n",
       "      <th></th>\n",
       "      <th>popularity</th>\n",
       "      <th>danceability</th>\n",
       "      <th>valence</th>\n",
       "      <th>energy</th>\n",
       "      <th>explicit</th>\n",
       "      <th>key</th>\n",
       "      <th>liveness</th>\n",
       "      <th>loudness</th>\n",
       "      <th>speechiness</th>\n",
       "      <th>tempo</th>\n",
       "    </tr>\n",
       "  </thead>\n",
       "  <tbody>\n",
       "    <tr>\n",
       "      <th>0</th>\n",
       "      <td>22</td>\n",
       "      <td>0.678</td>\n",
       "      <td>0.559</td>\n",
       "      <td>0.432</td>\n",
       "      <td>0</td>\n",
       "      <td>3</td>\n",
       "      <td>0.0727</td>\n",
       "      <td>-12.696</td>\n",
       "      <td>0.0334</td>\n",
       "      <td>117.674</td>\n",
       "    </tr>\n",
       "    <tr>\n",
       "      <th>1</th>\n",
       "      <td>25</td>\n",
       "      <td>0.456</td>\n",
       "      <td>0.259</td>\n",
       "      <td>0.368</td>\n",
       "      <td>0</td>\n",
       "      <td>6</td>\n",
       "      <td>0.1560</td>\n",
       "      <td>-10.692</td>\n",
       "      <td>0.0280</td>\n",
       "      <td>143.783</td>\n",
       "    </tr>\n",
       "  </tbody>\n",
       "</table>\n",
       "</div>"
      ],
      "text/plain": [
       "   popularity  danceability  valence  energy  explicit  key  liveness  \\\n",
       "0          22         0.678    0.559   0.432         0    3    0.0727   \n",
       "1          25         0.456    0.259   0.368         0    6    0.1560   \n",
       "\n",
       "   loudness  speechiness    tempo  \n",
       "0   -12.696       0.0334  117.674  \n",
       "1   -10.692       0.0280  143.783  "
      ]
     },
     "execution_count": 10,
     "metadata": {},
     "output_type": "execute_result"
    }
   ],
   "source": [
    "X = df.drop(columns =['name','artists'])\n",
    "X.head(2)"
   ]
  },
  {
   "cell_type": "code",
   "execution_count": 15,
   "metadata": {
    "tags": [
     "challengify"
    ]
   },
   "outputs": [
    {
     "data": {
      "text/html": [
       "<style>#sk-container-id-2 {color: black;}#sk-container-id-2 pre{padding: 0;}#sk-container-id-2 div.sk-toggleable {background-color: white;}#sk-container-id-2 label.sk-toggleable__label {cursor: pointer;display: block;width: 100%;margin-bottom: 0;padding: 0.3em;box-sizing: border-box;text-align: center;}#sk-container-id-2 label.sk-toggleable__label-arrow:before {content: \"▸\";float: left;margin-right: 0.25em;color: #696969;}#sk-container-id-2 label.sk-toggleable__label-arrow:hover:before {color: black;}#sk-container-id-2 div.sk-estimator:hover label.sk-toggleable__label-arrow:before {color: black;}#sk-container-id-2 div.sk-toggleable__content {max-height: 0;max-width: 0;overflow: hidden;text-align: left;background-color: #f0f8ff;}#sk-container-id-2 div.sk-toggleable__content pre {margin: 0.2em;color: black;border-radius: 0.25em;background-color: #f0f8ff;}#sk-container-id-2 input.sk-toggleable__control:checked~div.sk-toggleable__content {max-height: 200px;max-width: 100%;overflow: auto;}#sk-container-id-2 input.sk-toggleable__control:checked~label.sk-toggleable__label-arrow:before {content: \"▾\";}#sk-container-id-2 div.sk-estimator input.sk-toggleable__control:checked~label.sk-toggleable__label {background-color: #d4ebff;}#sk-container-id-2 div.sk-label input.sk-toggleable__control:checked~label.sk-toggleable__label {background-color: #d4ebff;}#sk-container-id-2 input.sk-hidden--visually {border: 0;clip: rect(1px 1px 1px 1px);clip: rect(1px, 1px, 1px, 1px);height: 1px;margin: -1px;overflow: hidden;padding: 0;position: absolute;width: 1px;}#sk-container-id-2 div.sk-estimator {font-family: monospace;background-color: #f0f8ff;border: 1px dotted black;border-radius: 0.25em;box-sizing: border-box;margin-bottom: 0.5em;}#sk-container-id-2 div.sk-estimator:hover {background-color: #d4ebff;}#sk-container-id-2 div.sk-parallel-item::after {content: \"\";width: 100%;border-bottom: 1px solid gray;flex-grow: 1;}#sk-container-id-2 div.sk-label:hover label.sk-toggleable__label {background-color: #d4ebff;}#sk-container-id-2 div.sk-serial::before {content: \"\";position: absolute;border-left: 1px solid gray;box-sizing: border-box;top: 0;bottom: 0;left: 50%;z-index: 0;}#sk-container-id-2 div.sk-serial {display: flex;flex-direction: column;align-items: center;background-color: white;padding-right: 0.2em;padding-left: 0.2em;position: relative;}#sk-container-id-2 div.sk-item {position: relative;z-index: 1;}#sk-container-id-2 div.sk-parallel {display: flex;align-items: stretch;justify-content: center;background-color: white;position: relative;}#sk-container-id-2 div.sk-item::before, #sk-container-id-2 div.sk-parallel-item::before {content: \"\";position: absolute;border-left: 1px solid gray;box-sizing: border-box;top: 0;bottom: 0;left: 50%;z-index: -1;}#sk-container-id-2 div.sk-parallel-item {display: flex;flex-direction: column;z-index: 1;position: relative;background-color: white;}#sk-container-id-2 div.sk-parallel-item:first-child::after {align-self: flex-end;width: 50%;}#sk-container-id-2 div.sk-parallel-item:last-child::after {align-self: flex-start;width: 50%;}#sk-container-id-2 div.sk-parallel-item:only-child::after {width: 0;}#sk-container-id-2 div.sk-dashed-wrapped {border: 1px dashed gray;margin: 0 0.4em 0.5em 0.4em;box-sizing: border-box;padding-bottom: 0.4em;background-color: white;}#sk-container-id-2 div.sk-label label {font-family: monospace;font-weight: bold;display: inline-block;line-height: 1.2em;}#sk-container-id-2 div.sk-label-container {text-align: center;}#sk-container-id-2 div.sk-container {/* jupyter's `normalize.less` sets `[hidden] { display: none; }` but bootstrap.min.css set `[hidden] { display: none !important; }` so we also need the `!important` here to be able to override the default hidden behavior on the sphinx rendered scikit-learn.org. See: https://github.com/scikit-learn/scikit-learn/issues/21755 */display: inline-block !important;position: relative;}#sk-container-id-2 div.sk-text-repr-fallback {display: none;}</style><div id=\"sk-container-id-2\" class=\"sk-top-container\"><div class=\"sk-text-repr-fallback\"><pre>NearestNeighbors(n_neighbors=10)</pre><b>In a Jupyter environment, please rerun this cell to show the HTML representation or trust the notebook. <br />On GitHub, the HTML representation is unable to render, please try loading this page with nbviewer.org.</b></div><div class=\"sk-container\" hidden><div class=\"sk-item\"><div class=\"sk-estimator sk-toggleable\"><input class=\"sk-toggleable__control sk-hidden--visually\" id=\"sk-estimator-id-2\" type=\"checkbox\" checked><label for=\"sk-estimator-id-2\" class=\"sk-toggleable__label sk-toggleable__label-arrow\">NearestNeighbors</label><div class=\"sk-toggleable__content\"><pre>NearestNeighbors(n_neighbors=10)</pre></div></div></div></div></div>"
      ],
      "text/plain": [
       "NearestNeighbors(n_neighbors=10)"
      ]
     },
     "execution_count": 15,
     "metadata": {},
     "output_type": "execute_result"
    }
   ],
   "source": [
    "from sklearn.neighbors import NearestNeighbors\n",
    "\n",
    "neigh = NearestNeighbors(n_neighbors=10)\n",
    "\n",
    "neigh.fit(X)"
   ]
  },
  {
   "cell_type": "markdown",
   "metadata": {},
   "source": [
    "Check out the [documentation](https://scikit-learn.org/stable/modules/generated/sklearn.neighbors.KNeighborsRegressor.html#sklearn.neighbors.KNeighborsRegressor.kneighbors)"
   ]
  },
  {
   "cell_type": "markdown",
   "metadata": {},
   "source": [
    "## 2. Passing the new point"
   ]
  },
  {
   "cell_type": "markdown",
   "metadata": {},
   "source": [
    "👇 You can now pass a new point to the KNN model and find its closest point."
   ]
  },
  {
   "cell_type": "code",
   "execution_count": 16,
   "metadata": {},
   "outputs": [
    {
     "data": {
      "text/html": [
       "<div>\n",
       "<style scoped>\n",
       "    .dataframe tbody tr th:only-of-type {\n",
       "        vertical-align: middle;\n",
       "    }\n",
       "\n",
       "    .dataframe tbody tr th {\n",
       "        vertical-align: top;\n",
       "    }\n",
       "\n",
       "    .dataframe thead th {\n",
       "        text-align: right;\n",
       "    }\n",
       "</style>\n",
       "<table border=\"1\" class=\"dataframe\">\n",
       "  <thead>\n",
       "    <tr style=\"text-align: right;\">\n",
       "      <th></th>\n",
       "      <th>popularity</th>\n",
       "      <th>danceability</th>\n",
       "      <th>valence</th>\n",
       "      <th>energy</th>\n",
       "      <th>explicit</th>\n",
       "      <th>key</th>\n",
       "      <th>liveness</th>\n",
       "      <th>loudness</th>\n",
       "      <th>speechiness</th>\n",
       "      <th>tempo</th>\n",
       "    </tr>\n",
       "  </thead>\n",
       "  <tbody>\n",
       "    <tr>\n",
       "      <th>4295</th>\n",
       "      <td>29</td>\n",
       "      <td>0.534</td>\n",
       "      <td>0.114</td>\n",
       "      <td>0.984</td>\n",
       "      <td>0</td>\n",
       "      <td>4</td>\n",
       "      <td>0.982</td>\n",
       "      <td>-5.058</td>\n",
       "      <td>0.297</td>\n",
       "      <td>115.991</td>\n",
       "    </tr>\n",
       "  </tbody>\n",
       "</table>\n",
       "</div>"
      ],
      "text/plain": [
       "      popularity  danceability  valence  energy  explicit  key  liveness  \\\n",
       "4295          29         0.534    0.114   0.984         0    4     0.982   \n",
       "\n",
       "      loudness  speechiness    tempo  \n",
       "4295    -5.058        0.297  115.991  "
      ]
     },
     "execution_count": 16,
     "metadata": {},
     "output_type": "execute_result"
    }
   ],
   "source": [
    "queen_song"
   ]
  },
  {
   "cell_type": "code",
   "execution_count": 18,
   "metadata": {
    "tags": [
     "challengify"
    ]
   },
   "outputs": [
    {
     "data": {
      "text/html": [
       "<div>\n",
       "<style scoped>\n",
       "    .dataframe tbody tr th:only-of-type {\n",
       "        vertical-align: middle;\n",
       "    }\n",
       "\n",
       "    .dataframe tbody tr th {\n",
       "        vertical-align: top;\n",
       "    }\n",
       "\n",
       "    .dataframe thead th {\n",
       "        text-align: right;\n",
       "    }\n",
       "</style>\n",
       "<table border=\"1\" class=\"dataframe\">\n",
       "  <thead>\n",
       "    <tr style=\"text-align: right;\">\n",
       "      <th></th>\n",
       "      <th>popularity</th>\n",
       "      <th>danceability</th>\n",
       "      <th>valence</th>\n",
       "      <th>energy</th>\n",
       "      <th>explicit</th>\n",
       "      <th>key</th>\n",
       "      <th>liveness</th>\n",
       "      <th>loudness</th>\n",
       "      <th>speechiness</th>\n",
       "      <th>tempo</th>\n",
       "    </tr>\n",
       "  </thead>\n",
       "  <tbody>\n",
       "    <tr>\n",
       "      <th>4295</th>\n",
       "      <td>29</td>\n",
       "      <td>0.534</td>\n",
       "      <td>0.114</td>\n",
       "      <td>0.984</td>\n",
       "      <td>0</td>\n",
       "      <td>4</td>\n",
       "      <td>0.982</td>\n",
       "      <td>-5.058</td>\n",
       "      <td>0.297</td>\n",
       "      <td>115.991</td>\n",
       "    </tr>\n",
       "  </tbody>\n",
       "</table>\n",
       "</div>"
      ],
      "text/plain": [
       "      popularity  danceability  valence  energy  explicit  key  liveness  \\\n",
       "4295          29         0.534    0.114   0.984         0    4     0.982   \n",
       "\n",
       "      loudness  speechiness    tempo  \n",
       "4295    -5.058        0.297  115.991  "
      ]
     },
     "execution_count": 18,
     "metadata": {},
     "output_type": "execute_result"
    }
   ],
   "source": [
    "#queen_song = queen_song.drop(columns=['name','artists'])\n",
    "queen_song"
   ]
  },
  {
   "cell_type": "code",
   "execution_count": 19,
   "metadata": {},
   "outputs": [
    {
     "data": {
      "text/plain": [
       "(array([[0.        , 2.55269431, 2.56187197, 2.63552967, 2.7231866 ,\n",
       "         2.8106185 , 3.10731868, 3.26098142, 3.53048079, 3.53614762]]),\n",
       " array([[4295, 3488, 2700, 2507, 3586, 2794, 5179, 3047, 1704, 3648]]))"
      ]
     },
     "execution_count": 19,
     "metadata": {},
     "output_type": "execute_result"
    }
   ],
   "source": [
    "neigh.kneighbors(queen_song)"
   ]
  },
  {
   "cell_type": "code",
   "execution_count": 21,
   "metadata": {},
   "outputs": [
    {
     "data": {
      "text/plain": [
       "name                      Confidence Man\n",
       "artists         ['The Jeff Healey Band']\n",
       "popularity                            30\n",
       "danceability                        0.56\n",
       "valence                            0.868\n",
       "energy                             0.927\n",
       "explicit                               0\n",
       "key                                    6\n",
       "liveness                           0.316\n",
       "loudness                          -5.682\n",
       "speechiness                       0.0715\n",
       "tempo                            116.236\n",
       "Name: 3488, dtype: object"
      ]
     },
     "execution_count": 21,
     "metadata": {},
     "output_type": "execute_result"
    }
   ],
   "source": [
    "df.iloc[3488]"
   ]
  },
  {
   "cell_type": "markdown",
   "metadata": {},
   "source": [
    "## 3. Making a playlist!"
   ]
  },
  {
   "cell_type": "markdown",
   "metadata": {},
   "source": [
    "👇 Make a playlist with 10 songs based on Queen's *Another one bites the dust*, sorted by increasing tempo."
   ]
  },
  {
   "cell_type": "code",
   "execution_count": null,
   "metadata": {},
   "outputs": [
    {
     "data": {
      "text/html": [
       "<div>\n",
       "<style scoped>\n",
       "    .dataframe tbody tr th:only-of-type {\n",
       "        vertical-align: middle;\n",
       "    }\n",
       "\n",
       "    .dataframe tbody tr th {\n",
       "        vertical-align: top;\n",
       "    }\n",
       "\n",
       "    .dataframe thead th {\n",
       "        text-align: right;\n",
       "    }\n",
       "</style>\n",
       "<table border=\"1\" class=\"dataframe\">\n",
       "  <thead>\n",
       "    <tr style=\"text-align: right;\">\n",
       "      <th></th>\n",
       "      <th>name</th>\n",
       "      <th>artists</th>\n",
       "      <th>popularity</th>\n",
       "      <th>danceability</th>\n",
       "      <th>valence</th>\n",
       "      <th>energy</th>\n",
       "      <th>explicit</th>\n",
       "      <th>key</th>\n",
       "      <th>liveness</th>\n",
       "      <th>loudness</th>\n",
       "      <th>speechiness</th>\n",
       "      <th>tempo</th>\n",
       "    </tr>\n",
       "  </thead>\n",
       "  <tbody>\n",
       "    <tr>\n",
       "      <th>4295</th>\n",
       "      <td>Another One Bites The Dust - Live at Wembley '86</td>\n",
       "      <td>['Queen']</td>\n",
       "      <td>29</td>\n",
       "      <td>0.534</td>\n",
       "      <td>0.114</td>\n",
       "      <td>0.984</td>\n",
       "      <td>0</td>\n",
       "      <td>4</td>\n",
       "      <td>0.982</td>\n",
       "      <td>-5.058</td>\n",
       "      <td>0.297</td>\n",
       "      <td>115.991</td>\n",
       "    </tr>\n",
       "  </tbody>\n",
       "</table>\n",
       "</div>"
      ],
      "text/plain": [
       "                                                  name    artists  popularity  \\\n",
       "4295  Another One Bites The Dust - Live at Wembley '86  ['Queen']          29   \n",
       "\n",
       "      danceability  valence  energy  explicit  key  liveness  loudness  \\\n",
       "4295         0.534    0.114   0.984         0    4     0.982    -5.058   \n",
       "\n",
       "      speechiness    tempo  \n",
       "4295        0.297  115.991  "
      ]
     },
     "execution_count": null,
     "metadata": {},
     "output_type": "execute_result"
    }
   ],
   "source": [
    "queen_song"
   ]
  },
  {
   "cell_type": "code",
   "execution_count": 31,
   "metadata": {
    "tags": [
     "challengify"
    ]
   },
   "outputs": [
    {
     "data": {
      "text/html": [
       "<div>\n",
       "<style scoped>\n",
       "    .dataframe tbody tr th:only-of-type {\n",
       "        vertical-align: middle;\n",
       "    }\n",
       "\n",
       "    .dataframe tbody tr th {\n",
       "        vertical-align: top;\n",
       "    }\n",
       "\n",
       "    .dataframe thead th {\n",
       "        text-align: right;\n",
       "    }\n",
       "</style>\n",
       "<table border=\"1\" class=\"dataframe\">\n",
       "  <thead>\n",
       "    <tr style=\"text-align: right;\">\n",
       "      <th></th>\n",
       "      <th>name</th>\n",
       "      <th>artists</th>\n",
       "      <th>popularity</th>\n",
       "      <th>danceability</th>\n",
       "      <th>valence</th>\n",
       "      <th>energy</th>\n",
       "      <th>explicit</th>\n",
       "      <th>key</th>\n",
       "      <th>liveness</th>\n",
       "      <th>loudness</th>\n",
       "      <th>speechiness</th>\n",
       "      <th>tempo</th>\n",
       "    </tr>\n",
       "  </thead>\n",
       "  <tbody>\n",
       "    <tr>\n",
       "      <th>3648</th>\n",
       "      <td>Mary Jane - Remastered</td>\n",
       "      <td>['Megadeth']</td>\n",
       "      <td>30</td>\n",
       "      <td>0.429</td>\n",
       "      <td>0.364</td>\n",
       "      <td>0.959</td>\n",
       "      <td>0</td>\n",
       "      <td>2</td>\n",
       "      <td>0.3420</td>\n",
       "      <td>-4.789</td>\n",
       "      <td>0.1200</td>\n",
       "      <td>113.361</td>\n",
       "    </tr>\n",
       "    <tr>\n",
       "      <th>2700</th>\n",
       "      <td>君のハートはマリンブルー</td>\n",
       "      <td>['オメガトライブ', 'Kiyotaka Sugiyama']</td>\n",
       "      <td>29</td>\n",
       "      <td>0.602</td>\n",
       "      <td>0.624</td>\n",
       "      <td>0.794</td>\n",
       "      <td>0</td>\n",
       "      <td>4</td>\n",
       "      <td>0.4130</td>\n",
       "      <td>-5.512</td>\n",
       "      <td>0.0271</td>\n",
       "      <td>113.612</td>\n",
       "    </tr>\n",
       "    <tr>\n",
       "      <th>1704</th>\n",
       "      <td>Baba O'Riley - Live At Shepperton</td>\n",
       "      <td>['The Who']</td>\n",
       "      <td>27</td>\n",
       "      <td>0.304</td>\n",
       "      <td>0.412</td>\n",
       "      <td>0.835</td>\n",
       "      <td>0</td>\n",
       "      <td>5</td>\n",
       "      <td>0.8570</td>\n",
       "      <td>-7.372</td>\n",
       "      <td>0.0662</td>\n",
       "      <td>114.621</td>\n",
       "    </tr>\n",
       "    <tr>\n",
       "      <th>2794</th>\n",
       "      <td>Reaction to Action</td>\n",
       "      <td>['Foreigner']</td>\n",
       "      <td>30</td>\n",
       "      <td>0.631</td>\n",
       "      <td>0.404</td>\n",
       "      <td>0.935</td>\n",
       "      <td>0</td>\n",
       "      <td>2</td>\n",
       "      <td>0.1510</td>\n",
       "      <td>-6.459</td>\n",
       "      <td>0.0564</td>\n",
       "      <td>115.687</td>\n",
       "    </tr>\n",
       "    <tr>\n",
       "      <th>5179</th>\n",
       "      <td>On Silent Wings</td>\n",
       "      <td>['Tina Turner']</td>\n",
       "      <td>30</td>\n",
       "      <td>0.519</td>\n",
       "      <td>0.518</td>\n",
       "      <td>0.581</td>\n",
       "      <td>0</td>\n",
       "      <td>2</td>\n",
       "      <td>0.0613</td>\n",
       "      <td>-6.900</td>\n",
       "      <td>0.0337</td>\n",
       "      <td>115.851</td>\n",
       "    </tr>\n",
       "    <tr>\n",
       "      <th>4295</th>\n",
       "      <td>Another One Bites The Dust - Live at Wembley '86</td>\n",
       "      <td>['Queen']</td>\n",
       "      <td>29</td>\n",
       "      <td>0.534</td>\n",
       "      <td>0.114</td>\n",
       "      <td>0.984</td>\n",
       "      <td>0</td>\n",
       "      <td>4</td>\n",
       "      <td>0.9820</td>\n",
       "      <td>-5.058</td>\n",
       "      <td>0.2970</td>\n",
       "      <td>115.991</td>\n",
       "    </tr>\n",
       "    <tr>\n",
       "      <th>3586</th>\n",
       "      <td>LOVE IN THE FIRST DEGREE ~悪いあなた~ (Remastered 2...</td>\n",
       "      <td>['Wink']</td>\n",
       "      <td>29</td>\n",
       "      <td>0.784</td>\n",
       "      <td>0.757</td>\n",
       "      <td>0.944</td>\n",
       "      <td>0</td>\n",
       "      <td>2</td>\n",
       "      <td>0.2340</td>\n",
       "      <td>-6.579</td>\n",
       "      <td>0.0505</td>\n",
       "      <td>116.058</td>\n",
       "    </tr>\n",
       "    <tr>\n",
       "      <th>3488</th>\n",
       "      <td>Confidence Man</td>\n",
       "      <td>['The Jeff Healey Band']</td>\n",
       "      <td>30</td>\n",
       "      <td>0.560</td>\n",
       "      <td>0.868</td>\n",
       "      <td>0.927</td>\n",
       "      <td>0</td>\n",
       "      <td>6</td>\n",
       "      <td>0.3160</td>\n",
       "      <td>-5.682</td>\n",
       "      <td>0.0715</td>\n",
       "      <td>116.236</td>\n",
       "    </tr>\n",
       "    <tr>\n",
       "      <th>2507</th>\n",
       "      <td>Too Much Blood - Remastered</td>\n",
       "      <td>['The Rolling Stones']</td>\n",
       "      <td>30</td>\n",
       "      <td>0.592</td>\n",
       "      <td>0.479</td>\n",
       "      <td>0.909</td>\n",
       "      <td>0</td>\n",
       "      <td>6</td>\n",
       "      <td>0.0571</td>\n",
       "      <td>-5.887</td>\n",
       "      <td>0.0512</td>\n",
       "      <td>116.439</td>\n",
       "    </tr>\n",
       "    <tr>\n",
       "      <th>3047</th>\n",
       "      <td>Millionaires Against Hunger</td>\n",
       "      <td>['Red Hot Chili Peppers']</td>\n",
       "      <td>29</td>\n",
       "      <td>0.815</td>\n",
       "      <td>0.549</td>\n",
       "      <td>0.970</td>\n",
       "      <td>1</td>\n",
       "      <td>2</td>\n",
       "      <td>0.0348</td>\n",
       "      <td>-3.384</td>\n",
       "      <td>0.0834</td>\n",
       "      <td>117.264</td>\n",
       "    </tr>\n",
       "  </tbody>\n",
       "</table>\n",
       "</div>"
      ],
      "text/plain": [
       "                                                   name  \\\n",
       "3648                             Mary Jane - Remastered   \n",
       "2700                                      君のハートはマリンブルー   \n",
       "1704                  Baba O'Riley - Live At Shepperton   \n",
       "2794                                 Reaction to Action   \n",
       "5179                                    On Silent Wings   \n",
       "4295   Another One Bites The Dust - Live at Wembley '86   \n",
       "3586  LOVE IN THE FIRST DEGREE ~悪いあなた~ (Remastered 2...   \n",
       "3488                                     Confidence Man   \n",
       "2507                        Too Much Blood - Remastered   \n",
       "3047                        Millionaires Against Hunger   \n",
       "\n",
       "                               artists  popularity  danceability  valence  \\\n",
       "3648                      ['Megadeth']          30         0.429    0.364   \n",
       "2700  ['オメガトライブ', 'Kiyotaka Sugiyama']          29         0.602    0.624   \n",
       "1704                       ['The Who']          27         0.304    0.412   \n",
       "2794                     ['Foreigner']          30         0.631    0.404   \n",
       "5179                   ['Tina Turner']          30         0.519    0.518   \n",
       "4295                         ['Queen']          29         0.534    0.114   \n",
       "3586                          ['Wink']          29         0.784    0.757   \n",
       "3488          ['The Jeff Healey Band']          30         0.560    0.868   \n",
       "2507            ['The Rolling Stones']          30         0.592    0.479   \n",
       "3047         ['Red Hot Chili Peppers']          29         0.815    0.549   \n",
       "\n",
       "      energy  explicit  key  liveness  loudness  speechiness    tempo  \n",
       "3648   0.959         0    2    0.3420    -4.789       0.1200  113.361  \n",
       "2700   0.794         0    4    0.4130    -5.512       0.0271  113.612  \n",
       "1704   0.835         0    5    0.8570    -7.372       0.0662  114.621  \n",
       "2794   0.935         0    2    0.1510    -6.459       0.0564  115.687  \n",
       "5179   0.581         0    2    0.0613    -6.900       0.0337  115.851  \n",
       "4295   0.984         0    4    0.9820    -5.058       0.2970  115.991  \n",
       "3586   0.944         0    2    0.2340    -6.579       0.0505  116.058  \n",
       "3488   0.927         0    6    0.3160    -5.682       0.0715  116.236  \n",
       "2507   0.909         0    6    0.0571    -5.887       0.0512  116.439  \n",
       "3047   0.970         1    2    0.0348    -3.384       0.0834  117.264  "
      ]
     },
     "execution_count": 31,
     "metadata": {},
     "output_type": "execute_result"
    }
   ],
   "source": [
    "df.iloc[neigh.kneighbors(queen_song)[1][0]].sort_values(by='tempo')"
   ]
  }
 ],
 "metadata": {
  "kernelspec": {
   "display_name": "Python 3 (ipykernel)",
   "language": "python",
   "name": "python3"
  },
  "language_info": {
   "codemirror_mode": {
    "name": "ipython",
    "version": 3
   },
   "file_extension": ".py",
   "mimetype": "text/x-python",
   "name": "python",
   "nbconvert_exporter": "python",
   "pygments_lexer": "ipython3",
   "version": "3.10.6"
  },
  "toc": {
   "base_numbering": 1,
   "nav_menu": {},
   "number_sections": true,
   "sideBar": true,
   "skip_h1_title": false,
   "title_cell": "Table of Contents",
   "title_sidebar": "Contents",
   "toc_cell": false,
   "toc_position": {},
   "toc_section_display": true,
   "toc_window_display": false
  }
 },
 "nbformat": 4,
 "nbformat_minor": 4
}
