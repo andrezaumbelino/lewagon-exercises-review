{
 "cells": [
  {
   "cell_type": "markdown",
   "metadata": {},
   "source": [
    "# Principal Component Analysis"
   ]
  },
  {
   "cell_type": "markdown",
   "metadata": {},
   "source": [
    "This warm-up challenge will help you gain intuition about how a **Principal Component Analysis** works.  "
   ]
  },
  {
   "cell_type": "markdown",
   "metadata": {},
   "source": [
    "## (1) Generate Data"
   ]
  },
  {
   "cell_type": "markdown",
   "metadata": {},
   "source": [
    "We want a dataset with **100 observations** and **2 correlated features**\n",
    "\n",
    "👇 Run the cell below to generate your data  \n",
    "💡 Notice the (high) correlation between your two features."
   ]
  },
  {
   "cell_type": "code",
   "execution_count": 1,
   "metadata": {},
   "outputs": [
    {
     "data": {
      "text/html": [
       "<div>\n",
       "<style scoped>\n",
       "    .dataframe tbody tr th:only-of-type {\n",
       "        vertical-align: middle;\n",
       "    }\n",
       "\n",
       "    .dataframe tbody tr th {\n",
       "        vertical-align: top;\n",
       "    }\n",
       "\n",
       "    .dataframe thead th {\n",
       "        text-align: right;\n",
       "    }\n",
       "</style>\n",
       "<table border=\"1\" class=\"dataframe\">\n",
       "  <thead>\n",
       "    <tr style=\"text-align: right;\">\n",
       "      <th></th>\n",
       "      <th>0</th>\n",
       "      <th>1</th>\n",
       "    </tr>\n",
       "  </thead>\n",
       "  <tbody>\n",
       "    <tr>\n",
       "      <th>0</th>\n",
       "      <td>1.00</td>\n",
       "      <td>0.77</td>\n",
       "    </tr>\n",
       "    <tr>\n",
       "      <th>1</th>\n",
       "      <td>0.77</td>\n",
       "      <td>1.00</td>\n",
       "    </tr>\n",
       "  </tbody>\n",
       "</table>\n",
       "</div>"
      ],
      "text/plain": [
       "      0     1\n",
       "0  1.00  0.77\n",
       "1  0.77  1.00"
      ]
     },
     "execution_count": 1,
     "metadata": {},
     "output_type": "execute_result"
    }
   ],
   "source": [
    "import numpy as np\n",
    "import pandas as pd\n",
    "import matplotlib.pyplot as plt\n",
    "\n",
    "# Generate a dataset with 100 observations and 2 correlated features.\n",
    "seed = np.random.RandomState(42)\n",
    "feature_1 = seed.normal(5, 1, 100)\n",
    "feature_2 = .7 * feature_1 + seed.normal(0, .5, 100)\n",
    "X = np.array([feature_1, feature_2]).T\n",
    "X = pd.DataFrame(X)\n",
    "\n",
    "X.corr().round(3)"
   ]
  },
  {
   "cell_type": "markdown",
   "metadata": {},
   "source": [
    "❓ Draw a scatter plot of your two features against each other"
   ]
  },
  {
   "cell_type": "code",
   "execution_count": 17,
   "metadata": {},
   "outputs": [
    {
     "data": {
      "text/plain": [
       "0     5.496714\n",
       "1     4.861736\n",
       "2     5.647689\n",
       "3     6.523030\n",
       "4     4.765847\n",
       "        ...   \n",
       "95    3.536485\n",
       "96    5.296120\n",
       "97    5.261055\n",
       "98    5.005113\n",
       "99    4.765413\n",
       "Name: 0, Length: 100, dtype: float64"
      ]
     },
     "execution_count": 17,
     "metadata": {},
     "output_type": "execute_result"
    }
   ],
   "source": [
    "X[0]"
   ]
  },
  {
   "cell_type": "code",
   "execution_count": 5,
   "metadata": {
    "tags": [
     "challengify"
    ]
   },
   "outputs": [
    {
     "data": {
      "text/plain": [
       "<matplotlib.collections.PathCollection at 0x7e90ae67e950>"
      ]
     },
     "execution_count": 5,
     "metadata": {},
     "output_type": "execute_result"
    },
    {
     "data": {
      "image/png": "[encoded data removed]",
      "text/plain": [
       "<Figure size 640x480 with 1 Axes>"
      ]
     },
     "metadata": {},
     "output_type": "display_data"
    }
   ],
   "source": [
    "plt.scatter(X[0], X[1])"
   ]
  },
  {
   "cell_type": "markdown",
   "metadata": {},
   "source": [
    "☝️ You can identify the positive correlation between the features  \n",
    "\n",
    "Our observations are packed along a single line, it is not easy to spot differences between them\n",
    "\n",
    "💡 PCA will help us find the directions (the so-called \"principal components\") that cancel out this correlation."
   ]
  },
  {
   "cell_type": "markdown",
   "metadata": {},
   "source": [
    "## (2) Principal Components"
   ]
  },
  {
   "cell_type": "markdown",
   "metadata": {},
   "source": [
    "👉 Import `PCA` from `sklearn` and instantiate a model with `n_components=2`\n",
    "\n",
    "❓Fit it on your `X`, and assign it to `pca`"
   ]
  },
  {
   "cell_type": "code",
   "execution_count": 7,
   "metadata": {
    "tags": [
     "challengify"
    ]
   },
   "outputs": [],
   "source": [
    "from sklearn.decomposition import PCA\n",
    "pca = PCA(n_components=2).fit(X)"
   ]
  },
  {
   "cell_type": "markdown",
   "metadata": {},
   "source": [
    "Let's focus on two objects in that `PCA`: \n",
    "\n",
    "* `pca.components_`: it's a set of eigenvectors which point to the directions where the variance is maximally explained: the **directions of maximum variance**.\n",
    "\n",
    "* `pca.explained_variance_`:  $Var(Principal  Component)$, given by the corresponding L2 norm of these eigenvectors.\n",
    "\n",
    "    * `pca.explained_variance_ratio_`:  $ = \\frac{Var(Principal\\; Component)}{\\sum Var(Principal\\; Component)}$"
   ]
  },
  {
   "cell_type": "code",
   "execution_count": 8,
   "metadata": {},
   "outputs": [
    {
     "data": {
      "text/plain": [
       "array([[ 0.79286897,  0.60939216],\n",
       "       [-0.60939216,  0.79286897]])"
      ]
     },
     "execution_count": 8,
     "metadata": {},
     "output_type": "execute_result"
    }
   ],
   "source": [
    "# Vector coordinates of each Principal Component\n",
    "pca.components_"
   ]
  },
  {
   "cell_type": "code",
   "execution_count": 9,
   "metadata": {},
   "outputs": [
    {
     "data": {
      "text/plain": [
       "array([1.2231014 , 0.15046893])"
      ]
     },
     "execution_count": 9,
     "metadata": {},
     "output_type": "execute_result"
    }
   ],
   "source": [
    "# Explained Variance for each Principal Component\n",
    "# Ranked by decreasing order of importance\n",
    "pca.explained_variance_"
   ]
  },
  {
   "cell_type": "code",
   "execution_count": 10,
   "metadata": {},
   "outputs": [
    {
     "data": {
      "text/plain": [
       "array([0.89045415, 0.10954585])"
      ]
     },
     "execution_count": 10,
     "metadata": {},
     "output_type": "execute_result"
    }
   ],
   "source": [
    "# Explained Variance Ratio for each Principal Component\n",
    "# Ranked by decreasing order of importance\n",
    "\n",
    "# It is exactly the explained variance for each component...\n",
    "# ... divided by the sum of explained variances !\n",
    "pca.explained_variance_ratio_"
   ]
  },
  {
   "cell_type": "markdown",
   "metadata": {},
   "source": [
    "👇 Run the cell below to visualize your two Principal Components"
   ]
  },
  {
   "cell_type": "code",
   "execution_count": 11,
   "metadata": {},
   "outputs": [
    {
     "data": {
      "image/png": "[encoded data removed]",
      "text/plain": [
       "<Figure size 500x500 with 1 Axes>"
      ]
     },
     "metadata": {},
     "output_type": "display_data"
    }
   ],
   "source": [
    "plt.figure(figsize=(5,5))\n",
    "\n",
    "plt.scatter(X[0], X[1])\n",
    "\n",
    "for (length, vector) in zip(pca.explained_variance_, pca.components_):\n",
    "    v = vector * np.sqrt(length) # Square root of their lenghts to compare same \"units\"\n",
    "    plt.quiver(*X.mean(axis=0), *v, units='xy', scale=1, color='r')"
   ]
  },
  {
   "cell_type": "markdown",
   "metadata": {},
   "source": [
    "💡 The length of the vector is a measure of the standard deviation of the dataset when projected onto this axis!\n",
    "\n",
    "💡 We can then use those directions (these \"principal components\") to \"explain\" most of our observations behavior - most of the distinction between observations happens along these axis. "
   ]
  },
  {
   "cell_type": "markdown",
   "metadata": {},
   "source": [
    "## (3) Apply PCA"
   ]
  },
  {
   "cell_type": "markdown",
   "metadata": {},
   "source": [
    "We can use these components to project every sample of our dataset onto the directions of maximum variance.\n",
    "\n",
    "❓ ***Questions*** ❓\n",
    "\n",
    "1. Use the `transform` method of your `pca` on `X` and store the result in `X_transformed`  \n",
    "2. Plot your projected features in `X_transformed`against one another.  \n",
    "3.  Compute the correlation between your transformed features in `X_transformed`"
   ]
  },
  {
   "cell_type": "code",
   "execution_count": 12,
   "metadata": {
    "tags": [
     "challengify"
    ]
   },
   "outputs": [],
   "source": [
    "X_transformed = pca.transform(X)"
   ]
  },
  {
   "cell_type": "code",
   "execution_count": 13,
   "metadata": {},
   "outputs": [
    {
     "data": {
      "text/plain": [
       "array([[ 2.94295757e-01, -6.02604896e-01],\n",
       "       [-1.76935642e-01, -1.73728846e-01],\n",
       "       [ 8.05234632e-01, -1.85577552e-01],\n",
       "       [ 1.73263692e+00, -4.15368532e-01],\n",
       "       [-2.14841091e-01, -6.56949328e-02],\n",
       "       [-4.25652353e-02,  1.58423085e-01],\n",
       "       [ 2.62031305e+00,  6.47375529e-01],\n",
       "       [ 1.10887529e+00,  1.29827029e-02],\n",
       "       [-3.74184045e-01,  1.13143811e-01],\n",
       "       [ 7.58776765e-01, -7.35093324e-02],\n",
       "       [-1.02991491e+00, -7.49954508e-01],\n",
       "       [-4.56170946e-01,  3.27292504e-04],\n",
       "       [ 4.33250061e-01, -3.77139894e-03],\n",
       "       [-1.46275806e+00,  1.06607583e+00],\n",
       "       [-2.04221259e+00,  3.05932062e-03],\n",
       "       [-4.73958729e-01,  1.35633258e-01],\n",
       "       [-1.12582801e+00,  2.68308596e-02],\n",
       "       [ 1.46954083e-01, -4.94884147e-01],\n",
       "       [-6.39231568e-01,  4.87946361e-01],\n",
       "       [-1.37327465e+00,  3.60408854e-01],\n",
       "       [ 2.14813900e+00,  2.19394791e-01],\n",
       "       [-4.32569390e-01, -3.62723839e-01],\n",
       "       [ 6.29611592e-01,  5.37953708e-01],\n",
       "       [-2.04469957e+00, -4.92748652e-01],\n",
       "       [-3.65192069e-01,  2.47766150e-01],\n",
       "       [ 9.22525906e-01,  8.47849860e-01],\n",
       "       [-1.58554531e+00, -3.44577144e-01],\n",
       "       [ 4.05432638e-01, -2.59421748e-01],\n",
       "       [-5.82242714e-01,  5.76804159e-02],\n",
       "       [-3.89272260e-01, -1.98221557e-01],\n",
       "       [-1.08638943e+00, -5.96503200e-01],\n",
       "       [ 2.39947826e+00, -8.80432309e-02],\n",
       "       [-2.20300040e-01, -4.34889677e-01],\n",
       "       [-1.02567810e+00,  2.30780911e-01],\n",
       "       [ 8.42740907e-01, -4.23714539e-01],\n",
       "       [-8.96652052e-01,  6.66351776e-01],\n",
       "       [ 1.35881980e-01, -3.36357311e-01],\n",
       "       [-2.36799899e+00, -3.55917101e-02],\n",
       "       [-1.25193347e+00,  3.80248305e-01],\n",
       "       [-1.51395424e-02, -5.13153021e-01],\n",
       "       [ 1.08966324e+00,  3.55223999e-02],\n",
       "       [ 7.27094042e-01,  4.94386907e-01],\n",
       "       [-5.10981543e-01, -6.45462268e-01],\n",
       "       [-1.91082887e-01,  7.50805316e-02],\n",
       "       [-1.60394989e+00,  1.68944380e-01],\n",
       "       [-5.19752123e-01,  3.34599583e-01],\n",
       "       [-8.18778137e-01, -4.79808477e-01],\n",
       "       [ 1.00660169e+00, -5.95454828e-01],\n",
       "       [ 6.97895468e-01,  1.73738455e-01],\n",
       "       [-1.93959891e+00,  1.99126046e-01],\n",
       "       [ 5.91365110e-01,  6.71891761e-02],\n",
       "       [-2.44185826e-01,  1.43796402e-01],\n",
       "       [-9.12830146e-01, -2.47261488e-01],\n",
       "       [ 9.36510289e-01,  4.43181606e-02],\n",
       "       [ 1.46638251e+00,  4.56243964e-02],\n",
       "       [ 1.03782223e+00, -3.48330046e-01],\n",
       "       [-3.35045320e-01,  7.70807376e-01],\n",
       "       [-1.12853144e-01,  1.90169994e-01],\n",
       "       [ 1.60810365e-01, -5.04779061e-01],\n",
       "       [ 1.50951029e+00,  1.92736678e-01],\n",
       "       [-7.61468743e-01, -3.74827954e-01],\n",
       "       [ 1.33259802e-01,  3.07634450e-01],\n",
       "       [-8.76254600e-01,  5.04984144e-01],\n",
       "       [-1.58892621e+00, -2.74782298e-01],\n",
       "       [ 1.40420508e+00,  3.23237328e-01],\n",
       "       [ 1.89946962e+00,  7.53931147e-02],\n",
       "       [ 2.82505072e-01,  3.15319301e-01],\n",
       "       [ 1.92153587e+00,  6.82888250e-01],\n",
       "       [ 4.86064733e-01, -1.31437365e-01],\n",
       "       [-8.96508692e-01, -2.78212776e-01],\n",
       "       [ 2.89508793e-01, -3.86778173e-01],\n",
       "       [ 1.74681330e+00, -4.21549609e-01],\n",
       "       [ 5.26584198e-02, -4.31073013e-02],\n",
       "       [ 2.13178101e+00,  3.56631302e-02],\n",
       "       [-2.99048564e+00,  2.37671793e-01],\n",
       "       [ 1.37414198e+00,  2.68735833e-01],\n",
       "       [ 2.29949443e-01, -1.40694430e-02],\n",
       "       [ 1.98102408e-01,  5.78002327e-01],\n",
       "       [ 1.51096019e-01, -1.24399286e-01],\n",
       "       [-1.47506423e+00,  1.17197068e+00],\n",
       "       [ 4.25997746e-02,  2.45492837e-01],\n",
       "       [ 2.94144888e-01, -3.73717864e-01],\n",
       "       [ 1.59575035e+00, -5.19402211e-01],\n",
       "       [-3.65154946e-01,  2.04964364e-01],\n",
       "       [-9.34161647e-01, -5.91092188e-02],\n",
       "       [-2.74472365e-01,  2.95852028e-01],\n",
       "       [ 1.38031363e+00,  1.23334710e-01],\n",
       "       [ 4.98541550e-01, -6.12405372e-02],\n",
       "       [-7.84188512e-01, -3.21377699e-01],\n",
       "       [ 2.84171452e-01, -6.42941036e-01],\n",
       "       [ 1.02168067e-01, -1.96783262e-01],\n",
       "       [ 1.56198801e+00,  2.72337457e-01],\n",
       "       [-6.71041704e-01,  1.08564630e-01],\n",
       "       [-6.59298350e-01, -4.90524155e-01],\n",
       "       [-3.05547343e-01,  7.54893696e-02],\n",
       "       [-1.54743022e+00,  2.17854834e-01],\n",
       "       [ 2.11632884e-01, -3.80985620e-01],\n",
       "       [ 4.85020424e-01,  3.22548504e-02],\n",
       "       [ 1.43810378e-01,  8.30796964e-03],\n",
       "       [-5.14485479e-01, -4.54844965e-01]])"
      ]
     },
     "execution_count": 13,
     "metadata": {},
     "output_type": "execute_result"
    }
   ],
   "source": [
    "X_transformed"
   ]
  },
  {
   "cell_type": "code",
   "execution_count": 15,
   "metadata": {
    "tags": [
     "challengify"
    ]
   },
   "outputs": [
    {
     "data": {
      "text/plain": [
       "<matplotlib.collections.PathCollection at 0x7e9094f62e60>"
      ]
     },
     "execution_count": 15,
     "metadata": {},
     "output_type": "execute_result"
    },
    {
     "data": {
      "image/png": "[encoded data removed]",
      "text/plain": [
       "<Figure size 640x480 with 1 Axes>"
      ]
     },
     "metadata": {},
     "output_type": "display_data"
    }
   ],
   "source": [
    "plt.scatter(X_transformed[:,0],X_transformed[:,1])"
   ]
  },
  {
   "cell_type": "code",
   "execution_count": 22,
   "metadata": {
    "tags": [
     "challengify"
    ]
   },
   "outputs": [
    {
     "data": {
      "text/html": [
       "<div>\n",
       "<style scoped>\n",
       "    .dataframe tbody tr th:only-of-type {\n",
       "        vertical-align: middle;\n",
       "    }\n",
       "\n",
       "    .dataframe tbody tr th {\n",
       "        vertical-align: top;\n",
       "    }\n",
       "\n",
       "    .dataframe thead th {\n",
       "        text-align: right;\n",
       "    }\n",
       "</style>\n",
       "<table border=\"1\" class=\"dataframe\">\n",
       "  <thead>\n",
       "    <tr style=\"text-align: right;\">\n",
       "      <th></th>\n",
       "      <th>0</th>\n",
       "      <th>1</th>\n",
       "    </tr>\n",
       "  </thead>\n",
       "  <tbody>\n",
       "    <tr>\n",
       "      <th>0</th>\n",
       "      <td>1.0</td>\n",
       "      <td>-0.0</td>\n",
       "    </tr>\n",
       "    <tr>\n",
       "      <th>1</th>\n",
       "      <td>-0.0</td>\n",
       "      <td>1.0</td>\n",
       "    </tr>\n",
       "  </tbody>\n",
       "</table>\n",
       "</div>"
      ],
      "text/plain": [
       "     0    1\n",
       "0  1.0 -0.0\n",
       "1 -0.0  1.0"
      ]
     },
     "execution_count": 22,
     "metadata": {},
     "output_type": "execute_result"
    }
   ],
   "source": [
    "pd.DataFrame(X_transformed).corr().round(3)"
   ]
  },
  {
   "cell_type": "markdown",
   "metadata": {},
   "source": [
    "☝️ There is no correlation at all between your transformed features.  \n",
    "\n",
    "This makes it easier to study the behaviour between observations since they are no longer packed along a single line."
   ]
  },
  {
   "cell_type": "markdown",
   "metadata": {},
   "source": [
    "🏁 **Don't forget to push your notebook.**  \n",
    "\n",
    "Proceed with the challenges of the day and come back here if you have time 😉"
   ]
  },
  {
   "cell_type": "markdown",
   "metadata": {},
   "source": [
    "## (Optional) With a little help from Scaling"
   ]
  },
  {
   "cell_type": "markdown",
   "metadata": {},
   "source": [
    "Remember that the `projections` obtained with the `PCA` is nothing more than the dot product of your initial `X` and your *transposed* components (when we say components, we mean the eigenvectors you produced when you do `pca.components_`)\n",
    "\n",
    "👉 Compute your projected values manually by performing the dot product: $X.PC^T$.  \n",
    "\n",
    "❓ Use `np.all`, to check that your `X_transformed` is equal to your dot product $X.PC^T$."
   ]
  },
  {
   "cell_type": "code",
   "execution_count": null,
   "metadata": {
    "tags": [
     "challengify"
    ]
   },
   "outputs": [],
   "source": [
    "# YOUR CODE HERE"
   ]
  },
  {
   "cell_type": "markdown",
   "metadata": {},
   "source": [
    "It's not equal 😱  \n",
    "\n",
    "When the `PCA` of `sklearn` applies the reduction, it does so on a `X` that is, *centered*, but not *scaled*.\n",
    "\n",
    "This means that `PCA().transform(X)` is actually equivalent to `np.dot(X - X.mean(axis=0), PC)`"
   ]
  },
  {
   "cell_type": "code",
   "execution_count": null,
   "metadata": {},
   "outputs": [],
   "source": [
    "np.all(X_transformed == np.dot(X - X.mean(axis=0), PC))"
   ]
  },
  {
   "cell_type": "markdown",
   "metadata": {},
   "source": [
    "That is why when using a `PCA` we often recommend to scale, more precisely standardize, your data first so that they are already centered.\n",
    "\n",
    "This way, using `PCA.transform()` or performing the dot product with the principal components will be equivalent."
   ]
  }
 ],
 "metadata": {
  "kernelspec": {
   "display_name": "Python 3 (ipykernel)",
   "language": "python",
   "name": "python3"
  },
  "language_info": {
   "codemirror_mode": {
    "name": "ipython",
    "version": 3
   },
   "file_extension": ".py",
   "mimetype": "text/x-python",
   "name": "python",
   "nbconvert_exporter": "python",
   "pygments_lexer": "ipython3",
   "version": "3.10.6"
  },
  "toc": {
   "base_numbering": 1,
   "nav_menu": {},
   "number_sections": true,
   "sideBar": true,
   "skip_h1_title": false,
   "title_cell": "Table of Contents",
   "title_sidebar": "Contents",
   "toc_cell": false,
   "toc_position": {},
   "toc_section_display": true,
   "toc_window_display": false
  }
 },
 "nbformat": 4,
 "nbformat_minor": 2
}
