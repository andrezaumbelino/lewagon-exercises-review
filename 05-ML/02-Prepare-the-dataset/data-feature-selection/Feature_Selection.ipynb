{
 "cells": [
  {
   "cell_type": "markdown",
   "metadata": {
    "id": "WbFIrNJavoPn"
   },
   "source": [
    "# Feature Selection"
   ]
  },
  {
   "cell_type": "markdown",
   "metadata": {
    "id": "cTmnyUQgvoPp"
   },
   "source": [
    "🎯 This exercise is a continuation of the previous one, in which you will perform ***feature selection***.\n",
    "\n",
    "👇 Run the cell below to load the preprocessed dataset from the *previous challenge 1 - Preprocessing Workflow*."
   ]
  },
  {
   "cell_type": "code",
   "execution_count": 110,
   "metadata": {
    "colab": {
     "base_uri": "https://localhost:8080/",
     "height": 261
    },
    "id": "Mcf0efrovoPq",
    "outputId": "3c8ba2ef-267c-43fa-d5a8-5c63e4af0bd2"
   },
   "outputs": [
    {
     "data": {
      "text/html": [
       "<div>\n",
       "<style scoped>\n",
       "    .dataframe tbody tr th:only-of-type {\n",
       "        vertical-align: middle;\n",
       "    }\n",
       "\n",
       "    .dataframe tbody tr th {\n",
       "        vertical-align: top;\n",
       "    }\n",
       "\n",
       "    .dataframe thead th {\n",
       "        text-align: right;\n",
       "    }\n",
       "</style>\n",
       "<table border=\"1\" class=\"dataframe\">\n",
       "  <thead>\n",
       "    <tr style=\"text-align: right;\">\n",
       "      <th></th>\n",
       "      <th>GrLivArea</th>\n",
       "      <th>BedroomAbvGr</th>\n",
       "      <th>KitchenAbvGr</th>\n",
       "      <th>OverallCond</th>\n",
       "      <th>RoofSurface</th>\n",
       "      <th>CentralAir</th>\n",
       "      <th>SalePrice</th>\n",
       "      <th>GarageFinish_Fin</th>\n",
       "      <th>GarageFinish_NoGarage</th>\n",
       "      <th>GarageFinish_RFn</th>\n",
       "      <th>GarageFinish_Unf</th>\n",
       "      <th>sin_MoSold</th>\n",
       "      <th>cos_MoSold</th>\n",
       "    </tr>\n",
       "  </thead>\n",
       "  <tbody>\n",
       "    <tr>\n",
       "      <th>0</th>\n",
       "      <td>0.380070</td>\n",
       "      <td>0.375</td>\n",
       "      <td>0.333333</td>\n",
       "      <td>0.500</td>\n",
       "      <td>0.316729</td>\n",
       "      <td>1.0</td>\n",
       "      <td>208500</td>\n",
       "      <td>0.0</td>\n",
       "      <td>0.0</td>\n",
       "      <td>1.0</td>\n",
       "      <td>0.0</td>\n",
       "      <td>8.660254e-01</td>\n",
       "      <td>5.000000e-01</td>\n",
       "    </tr>\n",
       "    <tr>\n",
       "      <th>1</th>\n",
       "      <td>-0.312090</td>\n",
       "      <td>0.375</td>\n",
       "      <td>0.333333</td>\n",
       "      <td>0.875</td>\n",
       "      <td>0.069650</td>\n",
       "      <td>1.0</td>\n",
       "      <td>181500</td>\n",
       "      <td>0.0</td>\n",
       "      <td>0.0</td>\n",
       "      <td>1.0</td>\n",
       "      <td>0.0</td>\n",
       "      <td>5.000000e-01</td>\n",
       "      <td>-8.660254e-01</td>\n",
       "    </tr>\n",
       "    <tr>\n",
       "      <th>2</th>\n",
       "      <td>0.497489</td>\n",
       "      <td>0.375</td>\n",
       "      <td>0.333333</td>\n",
       "      <td>0.500</td>\n",
       "      <td>0.228124</td>\n",
       "      <td>1.0</td>\n",
       "      <td>223500</td>\n",
       "      <td>0.0</td>\n",
       "      <td>0.0</td>\n",
       "      <td>1.0</td>\n",
       "      <td>0.0</td>\n",
       "      <td>-1.000000e+00</td>\n",
       "      <td>-1.836970e-16</td>\n",
       "    </tr>\n",
       "    <tr>\n",
       "      <th>3</th>\n",
       "      <td>0.390885</td>\n",
       "      <td>0.375</td>\n",
       "      <td>0.333333</td>\n",
       "      <td>0.500</td>\n",
       "      <td>0.442583</td>\n",
       "      <td>1.0</td>\n",
       "      <td>140000</td>\n",
       "      <td>0.0</td>\n",
       "      <td>0.0</td>\n",
       "      <td>0.0</td>\n",
       "      <td>1.0</td>\n",
       "      <td>8.660254e-01</td>\n",
       "      <td>5.000000e-01</td>\n",
       "    </tr>\n",
       "    <tr>\n",
       "      <th>4</th>\n",
       "      <td>1.134029</td>\n",
       "      <td>0.500</td>\n",
       "      <td>0.333333</td>\n",
       "      <td>0.500</td>\n",
       "      <td>0.566894</td>\n",
       "      <td>1.0</td>\n",
       "      <td>250000</td>\n",
       "      <td>0.0</td>\n",
       "      <td>0.0</td>\n",
       "      <td>1.0</td>\n",
       "      <td>0.0</td>\n",
       "      <td>-2.449294e-16</td>\n",
       "      <td>1.000000e+00</td>\n",
       "    </tr>\n",
       "  </tbody>\n",
       "</table>\n",
       "</div>"
      ],
      "text/plain": [
       "   GrLivArea  BedroomAbvGr  KitchenAbvGr  OverallCond  RoofSurface  \\\n",
       "0   0.380070         0.375      0.333333        0.500     0.316729   \n",
       "1  -0.312090         0.375      0.333333        0.875     0.069650   \n",
       "2   0.497489         0.375      0.333333        0.500     0.228124   \n",
       "3   0.390885         0.375      0.333333        0.500     0.442583   \n",
       "4   1.134029         0.500      0.333333        0.500     0.566894   \n",
       "\n",
       "   CentralAir  SalePrice  GarageFinish_Fin  GarageFinish_NoGarage  \\\n",
       "0         1.0     208500               0.0                    0.0   \n",
       "1         1.0     181500               0.0                    0.0   \n",
       "2         1.0     223500               0.0                    0.0   \n",
       "3         1.0     140000               0.0                    0.0   \n",
       "4         1.0     250000               0.0                    0.0   \n",
       "\n",
       "   GarageFinish_RFn  GarageFinish_Unf    sin_MoSold    cos_MoSold  \n",
       "0               1.0               0.0  8.660254e-01  5.000000e-01  \n",
       "1               1.0               0.0  5.000000e-01 -8.660254e-01  \n",
       "2               1.0               0.0 -1.000000e+00 -1.836970e-16  \n",
       "3               0.0               1.0  8.660254e-01  5.000000e-01  \n",
       "4               1.0               0.0 -2.449294e-16  1.000000e+00  "
      ]
     },
     "execution_count": 110,
     "metadata": {},
     "output_type": "execute_result"
    }
   ],
   "source": [
    "import pandas as pd\n",
    "import seaborn as sns\n",
    "import numpy as np\n",
    "import matplotlib.pyplot as plt\n",
    "from sklearn.model_selection import cross_validate, train_test_split\n",
    "from sklearn.linear_model import LinearRegression\n",
    "\n",
    "# Run this cell if you\n",
    "data = pd.read_csv(\"https://wagon-public-datasets.s3.amazonaws.com/05-Machine-Learning/02-Prepare-the-dataset/cleaned_dataset.csv\")\n",
    "\n",
    "data.head()"
   ]
  },
  {
   "cell_type": "markdown",
   "metadata": {
    "id": "ih75NlWmvoPr"
   },
   "source": [
    "## (1) Correlation investigation"
   ]
  },
  {
   "cell_type": "markdown",
   "metadata": {
    "id": "TYHYotkrvoPr"
   },
   "source": [
    "❓ Plot a heatmap of the ***Pearson Correlation*** between the columns of the dataset ❓"
   ]
  },
  {
   "cell_type": "code",
   "execution_count": 88,
   "metadata": {},
   "outputs": [
    {
     "data": {
      "text/html": [
       "<div>\n",
       "<style scoped>\n",
       "    .dataframe tbody tr th:only-of-type {\n",
       "        vertical-align: middle;\n",
       "    }\n",
       "\n",
       "    .dataframe tbody tr th {\n",
       "        vertical-align: top;\n",
       "    }\n",
       "\n",
       "    .dataframe thead th {\n",
       "        text-align: right;\n",
       "    }\n",
       "</style>\n",
       "<table border=\"1\" class=\"dataframe\">\n",
       "  <thead>\n",
       "    <tr style=\"text-align: right;\">\n",
       "      <th></th>\n",
       "      <th>GrLivArea</th>\n",
       "      <th>BedroomAbvGr</th>\n",
       "      <th>KitchenAbvGr</th>\n",
       "      <th>OverallCond</th>\n",
       "      <th>RoofSurface</th>\n",
       "      <th>CentralAir</th>\n",
       "      <th>SalePrice</th>\n",
       "      <th>GarageFinish_Fin</th>\n",
       "      <th>GarageFinish_NoGarage</th>\n",
       "      <th>GarageFinish_RFn</th>\n",
       "      <th>GarageFinish_Unf</th>\n",
       "      <th>sin_MoSold</th>\n",
       "      <th>cos_MoSold</th>\n",
       "    </tr>\n",
       "  </thead>\n",
       "  <tbody>\n",
       "    <tr>\n",
       "      <th>GrLivArea</th>\n",
       "      <td>1.000000</td>\n",
       "      <td>0.519712</td>\n",
       "      <td>0.100093</td>\n",
       "      <td>-0.078781</td>\n",
       "      <td>0.040196</td>\n",
       "      <td>0.093068</td>\n",
       "      <td>0.707685</td>\n",
       "      <td>0.284965</td>\n",
       "      <td>-0.150300</td>\n",
       "      <td>0.081731</td>\n",
       "      <td>-0.252809</td>\n",
       "      <td>-0.067608</td>\n",
       "      <td>0.031901</td>\n",
       "    </tr>\n",
       "    <tr>\n",
       "      <th>BedroomAbvGr</th>\n",
       "      <td>0.519712</td>\n",
       "      <td>1.000000</td>\n",
       "      <td>0.198597</td>\n",
       "      <td>0.012980</td>\n",
       "      <td>0.044207</td>\n",
       "      <td>0.007872</td>\n",
       "      <td>0.168213</td>\n",
       "      <td>-0.005864</td>\n",
       "      <td>0.006672</td>\n",
       "      <td>-0.008591</td>\n",
       "      <td>0.009897</td>\n",
       "      <td>-0.061921</td>\n",
       "      <td>-0.030000</td>\n",
       "    </tr>\n",
       "    <tr>\n",
       "      <th>KitchenAbvGr</th>\n",
       "      <td>0.100093</td>\n",
       "      <td>0.198597</td>\n",
       "      <td>1.000000</td>\n",
       "      <td>-0.087001</td>\n",
       "      <td>-0.009704</td>\n",
       "      <td>-0.246797</td>\n",
       "      <td>-0.135907</td>\n",
       "      <td>-0.104644</td>\n",
       "      <td>0.152515</td>\n",
       "      <td>-0.107387</td>\n",
       "      <td>0.118812</td>\n",
       "      <td>-0.035697</td>\n",
       "      <td>0.008864</td>\n",
       "    </tr>\n",
       "    <tr>\n",
       "      <th>OverallCond</th>\n",
       "      <td>-0.078781</td>\n",
       "      <td>0.012980</td>\n",
       "      <td>-0.087001</td>\n",
       "      <td>1.000000</td>\n",
       "      <td>-0.065288</td>\n",
       "      <td>0.118969</td>\n",
       "      <td>-0.077856</td>\n",
       "      <td>-0.133177</td>\n",
       "      <td>-0.009690</td>\n",
       "      <td>-0.090723</td>\n",
       "      <td>0.203629</td>\n",
       "      <td>-0.010099</td>\n",
       "      <td>-0.092479</td>\n",
       "    </tr>\n",
       "    <tr>\n",
       "      <th>RoofSurface</th>\n",
       "      <td>0.040196</td>\n",
       "      <td>0.044207</td>\n",
       "      <td>-0.009704</td>\n",
       "      <td>-0.065288</td>\n",
       "      <td>1.000000</td>\n",
       "      <td>-0.039724</td>\n",
       "      <td>0.017944</td>\n",
       "      <td>0.017083</td>\n",
       "      <td>-0.069464</td>\n",
       "      <td>0.017535</td>\n",
       "      <td>0.001309</td>\n",
       "      <td>0.005978</td>\n",
       "      <td>0.017677</td>\n",
       "    </tr>\n",
       "    <tr>\n",
       "      <th>CentralAir</th>\n",
       "      <td>0.093068</td>\n",
       "      <td>0.007872</td>\n",
       "      <td>-0.246797</td>\n",
       "      <td>0.118969</td>\n",
       "      <td>-0.039724</td>\n",
       "      <td>1.000000</td>\n",
       "      <td>0.251328</td>\n",
       "      <td>0.142203</td>\n",
       "      <td>-0.251471</td>\n",
       "      <td>0.162085</td>\n",
       "      <td>-0.155776</td>\n",
       "      <td>-0.020429</td>\n",
       "      <td>-0.038481</td>\n",
       "    </tr>\n",
       "    <tr>\n",
       "      <th>SalePrice</th>\n",
       "      <td>0.707685</td>\n",
       "      <td>0.168213</td>\n",
       "      <td>-0.135907</td>\n",
       "      <td>-0.077856</td>\n",
       "      <td>0.017944</td>\n",
       "      <td>0.251328</td>\n",
       "      <td>1.000000</td>\n",
       "      <td>0.419678</td>\n",
       "      <td>-0.236832</td>\n",
       "      <td>0.169792</td>\n",
       "      <td>-0.410608</td>\n",
       "      <td>-0.055101</td>\n",
       "      <td>0.036300</td>\n",
       "    </tr>\n",
       "    <tr>\n",
       "      <th>GarageFinish_Fin</th>\n",
       "      <td>0.284965</td>\n",
       "      <td>-0.005864</td>\n",
       "      <td>-0.104644</td>\n",
       "      <td>-0.133177</td>\n",
       "      <td>0.017083</td>\n",
       "      <td>0.142203</td>\n",
       "      <td>0.419678</td>\n",
       "      <td>1.000000</td>\n",
       "      <td>-0.136604</td>\n",
       "      <td>-0.359384</td>\n",
       "      <td>-0.474129</td>\n",
       "      <td>0.010378</td>\n",
       "      <td>0.002865</td>\n",
       "    </tr>\n",
       "    <tr>\n",
       "      <th>GarageFinish_NoGarage</th>\n",
       "      <td>-0.150300</td>\n",
       "      <td>0.006672</td>\n",
       "      <td>0.152515</td>\n",
       "      <td>-0.009690</td>\n",
       "      <td>-0.069464</td>\n",
       "      <td>-0.251471</td>\n",
       "      <td>-0.236832</td>\n",
       "      <td>-0.136604</td>\n",
       "      <td>1.000000</td>\n",
       "      <td>-0.154532</td>\n",
       "      <td>-0.203871</td>\n",
       "      <td>0.019627</td>\n",
       "      <td>0.013858</td>\n",
       "    </tr>\n",
       "    <tr>\n",
       "      <th>GarageFinish_RFn</th>\n",
       "      <td>0.081731</td>\n",
       "      <td>-0.008591</td>\n",
       "      <td>-0.107387</td>\n",
       "      <td>-0.090723</td>\n",
       "      <td>0.017535</td>\n",
       "      <td>0.162085</td>\n",
       "      <td>0.169792</td>\n",
       "      <td>-0.359384</td>\n",
       "      <td>-0.154532</td>\n",
       "      <td>1.000000</td>\n",
       "      <td>-0.536355</td>\n",
       "      <td>-0.002677</td>\n",
       "      <td>0.033818</td>\n",
       "    </tr>\n",
       "    <tr>\n",
       "      <th>GarageFinish_Unf</th>\n",
       "      <td>-0.252809</td>\n",
       "      <td>0.009897</td>\n",
       "      <td>0.118812</td>\n",
       "      <td>0.203629</td>\n",
       "      <td>0.001309</td>\n",
       "      <td>-0.155776</td>\n",
       "      <td>-0.410608</td>\n",
       "      <td>-0.474129</td>\n",
       "      <td>-0.203871</td>\n",
       "      <td>-0.536355</td>\n",
       "      <td>1.000000</td>\n",
       "      <td>-0.015669</td>\n",
       "      <td>-0.040048</td>\n",
       "    </tr>\n",
       "    <tr>\n",
       "      <th>sin_MoSold</th>\n",
       "      <td>-0.067608</td>\n",
       "      <td>-0.061921</td>\n",
       "      <td>-0.035697</td>\n",
       "      <td>-0.010099</td>\n",
       "      <td>0.005978</td>\n",
       "      <td>-0.020429</td>\n",
       "      <td>-0.055101</td>\n",
       "      <td>0.010378</td>\n",
       "      <td>0.019627</td>\n",
       "      <td>-0.002677</td>\n",
       "      <td>-0.015669</td>\n",
       "      <td>1.000000</td>\n",
       "      <td>-0.030816</td>\n",
       "    </tr>\n",
       "    <tr>\n",
       "      <th>cos_MoSold</th>\n",
       "      <td>0.031901</td>\n",
       "      <td>-0.030000</td>\n",
       "      <td>0.008864</td>\n",
       "      <td>-0.092479</td>\n",
       "      <td>0.017677</td>\n",
       "      <td>-0.038481</td>\n",
       "      <td>0.036300</td>\n",
       "      <td>0.002865</td>\n",
       "      <td>0.013858</td>\n",
       "      <td>0.033818</td>\n",
       "      <td>-0.040048</td>\n",
       "      <td>-0.030816</td>\n",
       "      <td>1.000000</td>\n",
       "    </tr>\n",
       "  </tbody>\n",
       "</table>\n",
       "</div>"
      ],
      "text/plain": [
       "                       GrLivArea  BedroomAbvGr  KitchenAbvGr  OverallCond  \\\n",
       "GrLivArea               1.000000      0.519712      0.100093    -0.078781   \n",
       "BedroomAbvGr            0.519712      1.000000      0.198597     0.012980   \n",
       "KitchenAbvGr            0.100093      0.198597      1.000000    -0.087001   \n",
       "OverallCond            -0.078781      0.012980     -0.087001     1.000000   \n",
       "RoofSurface             0.040196      0.044207     -0.009704    -0.065288   \n",
       "CentralAir              0.093068      0.007872     -0.246797     0.118969   \n",
       "SalePrice               0.707685      0.168213     -0.135907    -0.077856   \n",
       "GarageFinish_Fin        0.284965     -0.005864     -0.104644    -0.133177   \n",
       "GarageFinish_NoGarage  -0.150300      0.006672      0.152515    -0.009690   \n",
       "GarageFinish_RFn        0.081731     -0.008591     -0.107387    -0.090723   \n",
       "GarageFinish_Unf       -0.252809      0.009897      0.118812     0.203629   \n",
       "sin_MoSold             -0.067608     -0.061921     -0.035697    -0.010099   \n",
       "cos_MoSold              0.031901     -0.030000      0.008864    -0.092479   \n",
       "\n",
       "                       RoofSurface  CentralAir  SalePrice  GarageFinish_Fin  \\\n",
       "GrLivArea                 0.040196    0.093068   0.707685          0.284965   \n",
       "BedroomAbvGr              0.044207    0.007872   0.168213         -0.005864   \n",
       "KitchenAbvGr             -0.009704   -0.246797  -0.135907         -0.104644   \n",
       "OverallCond              -0.065288    0.118969  -0.077856         -0.133177   \n",
       "RoofSurface               1.000000   -0.039724   0.017944          0.017083   \n",
       "CentralAir               -0.039724    1.000000   0.251328          0.142203   \n",
       "SalePrice                 0.017944    0.251328   1.000000          0.419678   \n",
       "GarageFinish_Fin          0.017083    0.142203   0.419678          1.000000   \n",
       "GarageFinish_NoGarage    -0.069464   -0.251471  -0.236832         -0.136604   \n",
       "GarageFinish_RFn          0.017535    0.162085   0.169792         -0.359384   \n",
       "GarageFinish_Unf          0.001309   -0.155776  -0.410608         -0.474129   \n",
       "sin_MoSold                0.005978   -0.020429  -0.055101          0.010378   \n",
       "cos_MoSold                0.017677   -0.038481   0.036300          0.002865   \n",
       "\n",
       "                       GarageFinish_NoGarage  GarageFinish_RFn  \\\n",
       "GrLivArea                          -0.150300          0.081731   \n",
       "BedroomAbvGr                        0.006672         -0.008591   \n",
       "KitchenAbvGr                        0.152515         -0.107387   \n",
       "OverallCond                        -0.009690         -0.090723   \n",
       "RoofSurface                        -0.069464          0.017535   \n",
       "CentralAir                         -0.251471          0.162085   \n",
       "SalePrice                          -0.236832          0.169792   \n",
       "GarageFinish_Fin                   -0.136604         -0.359384   \n",
       "GarageFinish_NoGarage               1.000000         -0.154532   \n",
       "GarageFinish_RFn                   -0.154532          1.000000   \n",
       "GarageFinish_Unf                   -0.203871         -0.536355   \n",
       "sin_MoSold                          0.019627         -0.002677   \n",
       "cos_MoSold                          0.013858          0.033818   \n",
       "\n",
       "                       GarageFinish_Unf  sin_MoSold  cos_MoSold  \n",
       "GrLivArea                     -0.252809   -0.067608    0.031901  \n",
       "BedroomAbvGr                   0.009897   -0.061921   -0.030000  \n",
       "KitchenAbvGr                   0.118812   -0.035697    0.008864  \n",
       "OverallCond                    0.203629   -0.010099   -0.092479  \n",
       "RoofSurface                    0.001309    0.005978    0.017677  \n",
       "CentralAir                    -0.155776   -0.020429   -0.038481  \n",
       "SalePrice                     -0.410608   -0.055101    0.036300  \n",
       "GarageFinish_Fin              -0.474129    0.010378    0.002865  \n",
       "GarageFinish_NoGarage         -0.203871    0.019627    0.013858  \n",
       "GarageFinish_RFn              -0.536355   -0.002677    0.033818  \n",
       "GarageFinish_Unf               1.000000   -0.015669   -0.040048  \n",
       "sin_MoSold                    -0.015669    1.000000   -0.030816  \n",
       "cos_MoSold                    -0.040048   -0.030816    1.000000  "
      ]
     },
     "execution_count": 88,
     "metadata": {},
     "output_type": "execute_result"
    }
   ],
   "source": [
    "correlation_matrix = data.corr()\n",
    "correlation_matrix"
   ]
  },
  {
   "cell_type": "code",
   "execution_count": 89,
   "metadata": {},
   "outputs": [
    {
     "name": "stderr",
     "output_type": "stream",
     "text": [
      "/tmp/ipykernel_58734/1309604514.py:16: UserWarning: Glyph 128202 (\\N{BAR CHART}) missing from current font.\n",
      "  plt.tight_layout()\n",
      "/home/andreza/.pyenv/versions/3.10.6/envs/lewagon/lib/python3.10/site-packages/IPython/core/pylabtools.py:151: UserWarning: Glyph 128202 (\\N{BAR CHART}) missing from current font.\n",
      "  fig.canvas.print_figure(bytes_io, **kw)\n"
     ]
    },
    {
     "data": {
      "image/png": "[encoded data removed]",
      "text/plain": [
       "<Figure size 1200x800 with 2 Axes>"
      ]
     },
     "metadata": {},
     "output_type": "display_data"
    }
   ],
   "source": [
    "plt.figure(figsize=(12, 8))\n",
    "\n",
    "\n",
    "sns.heatmap(correlation_matrix, \n",
    "            annot=True,            \n",
    "            cmap='coolwarm',       \n",
    "            fmt=\".2f\",            \n",
    "            square=True,          \n",
    "            linewidths=0.5,       \n",
    "            cbar_kws={\"shrink\": 0.8})  \n",
    "\n",
    "# Título do gráfico\n",
    "plt.title('📊 Correlação de Pearson entre as variáveis', fontsize=16)\n",
    "\n",
    "# Mostra o gráfico\n",
    "plt.tight_layout()\n",
    "plt.show()"
   ]
  },
  {
   "cell_type": "markdown",
   "metadata": {
    "id": "AXhEymc9voPs"
   },
   "source": [
    "❓ Visualize the correlation between column pairs in a dataframe ❓"
   ]
  },
  {
   "cell_type": "code",
   "execution_count": 90,
   "metadata": {
    "colab": {
     "base_uri": "https://localhost:8080/",
     "height": 206
    },
    "id": "U1nrNWnpvoPs",
    "outputId": "9dcfba82-e7b8-4492-c8a5-73ef2aa1a845",
    "tags": [
     "challengify"
    ]
   },
   "outputs": [],
   "source": [
    "# Convert the correlation matrix into a DataFrame\n",
    "corr_df = correlation_matrix.stack().reset_index()\n",
    "# Rename the columns\n",
    "corr_df.columns = ['feature_1','feature_2', 'correlation']"
   ]
  },
  {
   "cell_type": "code",
   "execution_count": 91,
   "metadata": {},
   "outputs": [
    {
     "data": {
      "text/html": [
       "<div>\n",
       "<style scoped>\n",
       "    .dataframe tbody tr th:only-of-type {\n",
       "        vertical-align: middle;\n",
       "    }\n",
       "\n",
       "    .dataframe tbody tr th {\n",
       "        vertical-align: top;\n",
       "    }\n",
       "\n",
       "    .dataframe thead th {\n",
       "        text-align: right;\n",
       "    }\n",
       "</style>\n",
       "<table border=\"1\" class=\"dataframe\">\n",
       "  <thead>\n",
       "    <tr style=\"text-align: right;\">\n",
       "      <th></th>\n",
       "      <th>feature_1</th>\n",
       "      <th>feature_2</th>\n",
       "      <th>correlation</th>\n",
       "    </tr>\n",
       "  </thead>\n",
       "  <tbody>\n",
       "    <tr>\n",
       "      <th>0</th>\n",
       "      <td>GrLivArea</td>\n",
       "      <td>GrLivArea</td>\n",
       "      <td>1.000000</td>\n",
       "    </tr>\n",
       "    <tr>\n",
       "      <th>1</th>\n",
       "      <td>GrLivArea</td>\n",
       "      <td>BedroomAbvGr</td>\n",
       "      <td>0.519712</td>\n",
       "    </tr>\n",
       "    <tr>\n",
       "      <th>2</th>\n",
       "      <td>GrLivArea</td>\n",
       "      <td>KitchenAbvGr</td>\n",
       "      <td>0.100093</td>\n",
       "    </tr>\n",
       "    <tr>\n",
       "      <th>3</th>\n",
       "      <td>GrLivArea</td>\n",
       "      <td>OverallCond</td>\n",
       "      <td>-0.078781</td>\n",
       "    </tr>\n",
       "    <tr>\n",
       "      <th>4</th>\n",
       "      <td>GrLivArea</td>\n",
       "      <td>RoofSurface</td>\n",
       "      <td>0.040196</td>\n",
       "    </tr>\n",
       "    <tr>\n",
       "      <th>...</th>\n",
       "      <td>...</td>\n",
       "      <td>...</td>\n",
       "      <td>...</td>\n",
       "    </tr>\n",
       "    <tr>\n",
       "      <th>164</th>\n",
       "      <td>cos_MoSold</td>\n",
       "      <td>GarageFinish_NoGarage</td>\n",
       "      <td>0.013858</td>\n",
       "    </tr>\n",
       "    <tr>\n",
       "      <th>165</th>\n",
       "      <td>cos_MoSold</td>\n",
       "      <td>GarageFinish_RFn</td>\n",
       "      <td>0.033818</td>\n",
       "    </tr>\n",
       "    <tr>\n",
       "      <th>166</th>\n",
       "      <td>cos_MoSold</td>\n",
       "      <td>GarageFinish_Unf</td>\n",
       "      <td>-0.040048</td>\n",
       "    </tr>\n",
       "    <tr>\n",
       "      <th>167</th>\n",
       "      <td>cos_MoSold</td>\n",
       "      <td>sin_MoSold</td>\n",
       "      <td>-0.030816</td>\n",
       "    </tr>\n",
       "    <tr>\n",
       "      <th>168</th>\n",
       "      <td>cos_MoSold</td>\n",
       "      <td>cos_MoSold</td>\n",
       "      <td>1.000000</td>\n",
       "    </tr>\n",
       "  </tbody>\n",
       "</table>\n",
       "<p>169 rows × 3 columns</p>\n",
       "</div>"
      ],
      "text/plain": [
       "      feature_1              feature_2  correlation\n",
       "0     GrLivArea              GrLivArea     1.000000\n",
       "1     GrLivArea           BedroomAbvGr     0.519712\n",
       "2     GrLivArea           KitchenAbvGr     0.100093\n",
       "3     GrLivArea            OverallCond    -0.078781\n",
       "4     GrLivArea            RoofSurface     0.040196\n",
       "..          ...                    ...          ...\n",
       "164  cos_MoSold  GarageFinish_NoGarage     0.013858\n",
       "165  cos_MoSold       GarageFinish_RFn     0.033818\n",
       "166  cos_MoSold       GarageFinish_Unf    -0.040048\n",
       "167  cos_MoSold             sin_MoSold    -0.030816\n",
       "168  cos_MoSold             cos_MoSold     1.000000\n",
       "\n",
       "[169 rows x 3 columns]"
      ]
     },
     "execution_count": 91,
     "metadata": {},
     "output_type": "execute_result"
    }
   ],
   "source": [
    "corr_df"
   ]
  },
  {
   "cell_type": "code",
   "execution_count": 92,
   "metadata": {},
   "outputs": [],
   "source": [
    "# Remove \"self correlations\"\n",
    "no_self_correlation = (corr_df['feature_1'] != corr_df['feature_2'])\n",
    "corr_df = corr_df[no_self_correlation]"
   ]
  },
  {
   "cell_type": "code",
   "execution_count": 93,
   "metadata": {},
   "outputs": [
    {
     "data": {
      "text/html": [
       "<div>\n",
       "<style scoped>\n",
       "    .dataframe tbody tr th:only-of-type {\n",
       "        vertical-align: middle;\n",
       "    }\n",
       "\n",
       "    .dataframe tbody tr th {\n",
       "        vertical-align: top;\n",
       "    }\n",
       "\n",
       "    .dataframe thead th {\n",
       "        text-align: right;\n",
       "    }\n",
       "</style>\n",
       "<table border=\"1\" class=\"dataframe\">\n",
       "  <thead>\n",
       "    <tr style=\"text-align: right;\">\n",
       "      <th></th>\n",
       "      <th>feature_1</th>\n",
       "      <th>feature_2</th>\n",
       "      <th>correlation</th>\n",
       "    </tr>\n",
       "  </thead>\n",
       "  <tbody>\n",
       "    <tr>\n",
       "      <th>1</th>\n",
       "      <td>GrLivArea</td>\n",
       "      <td>BedroomAbvGr</td>\n",
       "      <td>0.519712</td>\n",
       "    </tr>\n",
       "    <tr>\n",
       "      <th>2</th>\n",
       "      <td>GrLivArea</td>\n",
       "      <td>KitchenAbvGr</td>\n",
       "      <td>0.100093</td>\n",
       "    </tr>\n",
       "    <tr>\n",
       "      <th>3</th>\n",
       "      <td>GrLivArea</td>\n",
       "      <td>OverallCond</td>\n",
       "      <td>-0.078781</td>\n",
       "    </tr>\n",
       "    <tr>\n",
       "      <th>4</th>\n",
       "      <td>GrLivArea</td>\n",
       "      <td>RoofSurface</td>\n",
       "      <td>0.040196</td>\n",
       "    </tr>\n",
       "    <tr>\n",
       "      <th>5</th>\n",
       "      <td>GrLivArea</td>\n",
       "      <td>CentralAir</td>\n",
       "      <td>0.093068</td>\n",
       "    </tr>\n",
       "    <tr>\n",
       "      <th>...</th>\n",
       "      <td>...</td>\n",
       "      <td>...</td>\n",
       "      <td>...</td>\n",
       "    </tr>\n",
       "    <tr>\n",
       "      <th>163</th>\n",
       "      <td>cos_MoSold</td>\n",
       "      <td>GarageFinish_Fin</td>\n",
       "      <td>0.002865</td>\n",
       "    </tr>\n",
       "    <tr>\n",
       "      <th>164</th>\n",
       "      <td>cos_MoSold</td>\n",
       "      <td>GarageFinish_NoGarage</td>\n",
       "      <td>0.013858</td>\n",
       "    </tr>\n",
       "    <tr>\n",
       "      <th>165</th>\n",
       "      <td>cos_MoSold</td>\n",
       "      <td>GarageFinish_RFn</td>\n",
       "      <td>0.033818</td>\n",
       "    </tr>\n",
       "    <tr>\n",
       "      <th>166</th>\n",
       "      <td>cos_MoSold</td>\n",
       "      <td>GarageFinish_Unf</td>\n",
       "      <td>-0.040048</td>\n",
       "    </tr>\n",
       "    <tr>\n",
       "      <th>167</th>\n",
       "      <td>cos_MoSold</td>\n",
       "      <td>sin_MoSold</td>\n",
       "      <td>-0.030816</td>\n",
       "    </tr>\n",
       "  </tbody>\n",
       "</table>\n",
       "<p>156 rows × 3 columns</p>\n",
       "</div>"
      ],
      "text/plain": [
       "      feature_1              feature_2  correlation\n",
       "1     GrLivArea           BedroomAbvGr     0.519712\n",
       "2     GrLivArea           KitchenAbvGr     0.100093\n",
       "3     GrLivArea            OverallCond    -0.078781\n",
       "4     GrLivArea            RoofSurface     0.040196\n",
       "5     GrLivArea             CentralAir     0.093068\n",
       "..          ...                    ...          ...\n",
       "163  cos_MoSold       GarageFinish_Fin     0.002865\n",
       "164  cos_MoSold  GarageFinish_NoGarage     0.013858\n",
       "165  cos_MoSold       GarageFinish_RFn     0.033818\n",
       "166  cos_MoSold       GarageFinish_Unf    -0.040048\n",
       "167  cos_MoSold             sin_MoSold    -0.030816\n",
       "\n",
       "[156 rows x 3 columns]"
      ]
     },
     "execution_count": 93,
     "metadata": {},
     "output_type": "execute_result"
    }
   ],
   "source": [
    "corr_df"
   ]
  },
  {
   "cell_type": "code",
   "execution_count": 106,
   "metadata": {},
   "outputs": [
    {
     "name": "stderr",
     "output_type": "stream",
     "text": [
      "/tmp/ipykernel_58734/2299742206.py:2: SettingWithCopyWarning: \n",
      "A value is trying to be set on a copy of a slice from a DataFrame.\n",
      "Try using .loc[row_indexer,col_indexer] = value instead\n",
      "\n",
      "See the caveats in the documentation: https://pandas.pydata.org/pandas-docs/stable/user_guide/indexing.html#returning-a-view-versus-a-copy\n",
      "  corr_df['absolute_correlation'] = np.abs(corr_df['correlation'])\n"
     ]
    }
   ],
   "source": [
    "# Compute the absolute correlation\n",
    "corr_df['absolute_correlation'] = np.abs(corr_df['correlation'])"
   ]
  },
  {
   "cell_type": "markdown",
   "metadata": {
    "id": "8NDCml4lvoPs"
   },
   "source": [
    "❓ How many pairs of features exceed a correlation of 0.9 or -0.9 ❓\n",
    "\n",
    "*Save your answer as an integer under variable name `correlated_features`*"
   ]
  },
  {
   "cell_type": "code",
   "execution_count": 95,
   "metadata": {
    "colab": {
     "base_uri": "https://localhost:8080/"
    },
    "id": "Io-oq_govoPs",
    "outputId": "41e2e268-08df-4016-e158-65c022c1dc90",
    "tags": [
     "challengify"
    ]
   },
   "outputs": [],
   "source": [
    "correlated_features = corr_df[corr_df['absolute_correlation']>0.9].count()\n",
    "correlated_features = correlated_features[0]"
   ]
  },
  {
   "cell_type": "markdown",
   "metadata": {
    "id": "2TDRH0DavoPs"
   },
   "source": [
    "🧪 **Test your code**"
   ]
  },
  {
   "cell_type": "code",
   "execution_count": 105,
   "metadata": {
    "id": "7bDVfrqAvoPs",
    "outputId": "8ff13ee4-3457-4433-9e4f-998a4749dc97"
   },
   "outputs": [
    {
     "name": "stdout",
     "output_type": "stream",
     "text": [
      "\n",
      "\u001b[1m============================= test session starts ==============================\u001b[0m\n",
      "platform linux -- Python 3.10.6, pytest-7.1.3, pluggy-1.0.0 -- /home/andreza/.pyenv/versions/3.10.6/envs/lewagon/bin/python\n",
      "cachedir: .pytest_cache\n",
      "rootdir: /home/andreza/code/andrezaumbelino/05-ML/02-Prepare-the-dataset/data-feature-selection/tests\n",
      "plugins: typeguard-2.13.3, asyncio-0.19.0, anyio-3.6.2\n",
      "asyncio: mode=strict\n",
      "\u001b[1mcollecting ... \u001b[0mcollected 1 item\n",
      "\n",
      "test_correlation.py::TestCorrelation::test_correlated_features \u001b[32mPASSED\u001b[0m\u001b[32m    [100%]\u001b[0m\n",
      "\n",
      "\u001b[32m============================== \u001b[32m\u001b[1m1 passed\u001b[0m\u001b[32m in 0.07s\u001b[0m\u001b[32m ===============================\u001b[0m\n",
      "\n",
      "\n",
      "💯 You can commit your code:\n",
      "\n",
      "\u001b[1;32mgit\u001b[39m add tests/correlation.pickle\n",
      "\n",
      "\u001b[32mgit\u001b[39m commit -m \u001b[33m'Completed correlation step'\u001b[39m\n",
      "\n",
      "\u001b[32mgit\u001b[39m push origin master\n",
      "\n"
     ]
    }
   ],
   "source": [
    "from nbresult import ChallengeResult\n",
    "\n",
    "result = ChallengeResult('correlation',\n",
    "                         correlated_features=correlated_features\n",
    ")\n",
    "\n",
    "result.write()\n",
    "print(result.check())"
   ]
  },
  {
   "cell_type": "markdown",
   "metadata": {
    "id": "tkBjkkBtvoPs"
   },
   "source": [
    "## (2) Base Modelling"
   ]
  },
  {
   "cell_type": "markdown",
   "metadata": {
    "id": "VqVM3z43voPs"
   },
   "source": [
    "❓ Prepare the feature set `X` and target `y`. ❓\n",
    "\n",
    "*Remember that we want to model the `SalePrice` with the preprocessed features.*"
   ]
  },
  {
   "cell_type": "code",
   "execution_count": 108,
   "metadata": {
    "id": "AC6QwiKXvoPt",
    "tags": [
     "challengify"
    ]
   },
   "outputs": [],
   "source": [
    "X = data.drop(['SalePrice'],axis=1)\n",
    "y = data['SalePrice']"
   ]
  },
  {
   "cell_type": "markdown",
   "metadata": {
    "id": "IEge5DdzvoPt"
   },
   "source": [
    "❓ Cross validate a Linear Regression model ❓\n",
    "\n",
    "*Save the score under variable name `base_model_score`.*"
   ]
  },
  {
   "cell_type": "code",
   "execution_count": 111,
   "metadata": {
    "colab": {
     "base_uri": "https://localhost:8080/"
    },
    "id": "wo28WS6RvoPt",
    "outputId": "0e8fa142-376f-4917-9b82-6d980241d333",
    "tags": [
     "challengify"
    ]
   },
   "outputs": [],
   "source": [
    "model = LinearRegression()\n",
    "X_train, X_test, y_train, y_test = train_test_split(X, y, test_size=0.3, random_state=42)\n",
    "cv_results = cross_validate(model, X_train, y_train, cv=5)\n",
    "base_model_score = cv_results['test_score'].mean()"
   ]
  },
  {
   "cell_type": "markdown",
   "metadata": {
    "id": "yL23KepGvoPt"
   },
   "source": [
    "🧪 **Test your code**"
   ]
  },
  {
   "cell_type": "code",
   "execution_count": 112,
   "metadata": {
    "id": "naKzLo2IvoPt",
    "outputId": "e788b600-452f-46d4-9304-4212d7dfc12b"
   },
   "outputs": [
    {
     "name": "stdout",
     "output_type": "stream",
     "text": [
      "\n",
      "\u001b[1m============================= test session starts ==============================\u001b[0m\n",
      "platform linux -- Python 3.10.6, pytest-7.1.3, pluggy-1.0.0 -- /home/andreza/.pyenv/versions/3.10.6/envs/lewagon/bin/python\n",
      "cachedir: .pytest_cache\n",
      "rootdir: /home/andreza/code/andrezaumbelino/05-ML/02-Prepare-the-dataset/data-feature-selection/tests\n",
      "plugins: typeguard-2.13.3, asyncio-0.19.0, anyio-3.6.2\n",
      "asyncio: mode=strict\n",
      "\u001b[1mcollecting ... \u001b[0mcollected 1 item\n",
      "\n",
      "test_base_model.py::TestBase_model::test_base_model_score \u001b[32mPASSED\u001b[0m\u001b[32m         [100%]\u001b[0m\n",
      "\n",
      "\u001b[32m============================== \u001b[32m\u001b[1m1 passed\u001b[0m\u001b[32m in 0.07s\u001b[0m\u001b[32m ===============================\u001b[0m\n",
      "\n",
      "\n",
      "💯 You can commit your code:\n",
      "\n",
      "\u001b[1;32mgit\u001b[39m add tests/base_model.pickle\n",
      "\n",
      "\u001b[32mgit\u001b[39m commit -m \u001b[33m'Completed base_model step'\u001b[39m\n",
      "\n",
      "\u001b[32mgit\u001b[39m push origin master\n",
      "\n"
     ]
    }
   ],
   "source": [
    "from nbresult import ChallengeResult\n",
    "\n",
    "result = ChallengeResult('base_model',\n",
    "                         score=base_model_score\n",
    ")\n",
    "\n",
    "result.write()\n",
    "print(result.check())"
   ]
  },
  {
   "cell_type": "markdown",
   "metadata": {
    "id": "yTk47W9avoPt"
   },
   "source": [
    "## (3) Feature Permutation"
   ]
  },
  {
   "cell_type": "markdown",
   "metadata": {
    "id": "XKdX5bm7voPt"
   },
   "source": [
    "❓ Perform a feature permutation  and rank the features by order of importance. ❓"
   ]
  },
  {
   "cell_type": "code",
   "execution_count": 119,
   "metadata": {},
   "outputs": [
    {
     "name": "stderr",
     "output_type": "stream",
     "text": [
      "/home/andreza/.pyenv/versions/3.10.6/envs/lewagon/lib/python3.10/site-packages/sklearn/model_selection/_split.py:805: UserWarning: The least populated class in y has only 1 members, which is less than n_splits=5.\n",
      "  warnings.warn(\n"
     ]
    },
    {
     "data": {
      "text/plain": [
       "0.015753424657534244"
      ]
     },
     "execution_count": 119,
     "metadata": {},
     "output_type": "execute_result"
    }
   ],
   "source": [
    "from sklearn.model_selection import cross_val_score\n",
    "log_model = LogisticRegression()\n",
    "np.mean(cross_val_score(log_model, X, y , cv=5))"
   ]
  },
  {
   "cell_type": "code",
   "execution_count": 127,
   "metadata": {
    "colab": {
     "base_uri": "https://localhost:8080/",
     "height": 425
    },
    "id": "8ireB8M6voPt",
    "outputId": "99e82151-eed0-4210-e9db-65c1d15ede70",
    "tags": [
     "challengify"
    ]
   },
   "outputs": [],
   "source": [
    "from sklearn.inspection import permutation_importance\n",
    "log_model = log_model.fit(X, y)  # Treina o modelo\n",
    "permutation_score = permutation_importance(log_model, X, y, n_repeats=10)"
   ]
  },
  {
   "cell_type": "code",
   "execution_count": 128,
   "metadata": {},
   "outputs": [
    {
     "data": {
      "text/html": [
       "<div>\n",
       "<style scoped>\n",
       "    .dataframe tbody tr th:only-of-type {\n",
       "        vertical-align: middle;\n",
       "    }\n",
       "\n",
       "    .dataframe tbody tr th {\n",
       "        vertical-align: top;\n",
       "    }\n",
       "\n",
       "    .dataframe thead th {\n",
       "        text-align: right;\n",
       "    }\n",
       "</style>\n",
       "<table border=\"1\" class=\"dataframe\">\n",
       "  <thead>\n",
       "    <tr style=\"text-align: right;\">\n",
       "      <th></th>\n",
       "      <th>feature</th>\n",
       "      <th>score decrease</th>\n",
       "    </tr>\n",
       "  </thead>\n",
       "  <tbody>\n",
       "    <tr>\n",
       "      <th>0</th>\n",
       "      <td>GrLivArea</td>\n",
       "      <td>0.021644</td>\n",
       "    </tr>\n",
       "    <tr>\n",
       "      <th>9</th>\n",
       "      <td>GarageFinish_Unf</td>\n",
       "      <td>0.01137</td>\n",
       "    </tr>\n",
       "    <tr>\n",
       "      <th>11</th>\n",
       "      <td>cos_MoSold</td>\n",
       "      <td>0.011027</td>\n",
       "    </tr>\n",
       "    <tr>\n",
       "      <th>10</th>\n",
       "      <td>sin_MoSold</td>\n",
       "      <td>0.008356</td>\n",
       "    </tr>\n",
       "    <tr>\n",
       "      <th>5</th>\n",
       "      <td>CentralAir</td>\n",
       "      <td>0.007192</td>\n",
       "    </tr>\n",
       "    <tr>\n",
       "      <th>6</th>\n",
       "      <td>GarageFinish_Fin</td>\n",
       "      <td>0.006712</td>\n",
       "    </tr>\n",
       "    <tr>\n",
       "      <th>8</th>\n",
       "      <td>GarageFinish_RFn</td>\n",
       "      <td>0.005753</td>\n",
       "    </tr>\n",
       "    <tr>\n",
       "      <th>4</th>\n",
       "      <td>RoofSurface</td>\n",
       "      <td>0.004863</td>\n",
       "    </tr>\n",
       "    <tr>\n",
       "      <th>7</th>\n",
       "      <td>GarageFinish_NoGarage</td>\n",
       "      <td>0.002055</td>\n",
       "    </tr>\n",
       "    <tr>\n",
       "      <th>3</th>\n",
       "      <td>OverallCond</td>\n",
       "      <td>0.001986</td>\n",
       "    </tr>\n",
       "    <tr>\n",
       "      <th>1</th>\n",
       "      <td>BedroomAbvGr</td>\n",
       "      <td>0.000685</td>\n",
       "    </tr>\n",
       "    <tr>\n",
       "      <th>2</th>\n",
       "      <td>KitchenAbvGr</td>\n",
       "      <td>-0.000548</td>\n",
       "    </tr>\n",
       "  </tbody>\n",
       "</table>\n",
       "</div>"
      ],
      "text/plain": [
       "                  feature score decrease\n",
       "0               GrLivArea       0.021644\n",
       "9        GarageFinish_Unf        0.01137\n",
       "11             cos_MoSold       0.011027\n",
       "10             sin_MoSold       0.008356\n",
       "5              CentralAir       0.007192\n",
       "6        GarageFinish_Fin       0.006712\n",
       "8        GarageFinish_RFn       0.005753\n",
       "4             RoofSurface       0.004863\n",
       "7   GarageFinish_NoGarage       0.002055\n",
       "3             OverallCond       0.001986\n",
       "1            BedroomAbvGr       0.000685\n",
       "2            KitchenAbvGr      -0.000548"
      ]
     },
     "execution_count": 128,
     "metadata": {},
     "output_type": "execute_result"
    }
   ],
   "source": [
    "importance_df = pd.DataFrame(np.vstack((X.columns, permutation_score.importances_mean)).T)\n",
    "importance_df.columns = ['feature', 'score decrease']\n",
    "importance_df.sort_values(by=\"score decrease\", ascending=False)"
   ]
  },
  {
   "cell_type": "markdown",
   "metadata": {
    "id": "9rJStdjHvoPt"
   },
   "source": [
    "❓ Which feature is the most important ❓\n",
    "*Save your answer as a `string` under variable name `best_feature`.*"
   ]
  },
  {
   "cell_type": "code",
   "execution_count": 125,
   "metadata": {
    "colab": {
     "base_uri": "https://localhost:8080/",
     "height": 36
    },
    "id": "GTn8Ak06voPt",
    "outputId": "450b8c5e-cc05-4371-d856-454999a814e6",
    "tags": [
     "challengify"
    ]
   },
   "outputs": [],
   "source": [
    "best_feature = 'GrLivArea'"
   ]
  },
  {
   "cell_type": "markdown",
   "metadata": {
    "id": "5irUA64cvoPu"
   },
   "source": [
    "🧪 **Test your code**"
   ]
  },
  {
   "cell_type": "code",
   "execution_count": 126,
   "metadata": {
    "id": "Gl8ev6FivoPu",
    "outputId": "832bea59-c52f-4dc0-80a2-9432b70e5290"
   },
   "outputs": [
    {
     "name": "stdout",
     "output_type": "stream",
     "text": [
      "\n",
      "\u001b[1m============================= test session starts ==============================\u001b[0m\n",
      "platform linux -- Python 3.10.6, pytest-7.1.3, pluggy-1.0.0 -- /home/andreza/.pyenv/versions/3.10.6/envs/lewagon/bin/python\n",
      "cachedir: .pytest_cache\n",
      "rootdir: /home/andreza/code/andrezaumbelino/05-ML/02-Prepare-the-dataset/data-feature-selection/tests\n",
      "plugins: typeguard-2.13.3, asyncio-0.19.0, anyio-3.6.2\n",
      "asyncio: mode=strict\n",
      "\u001b[1mcollecting ... \u001b[0mcollected 1 item\n",
      "\n",
      "test_feature_permutation.py::TestFeature_permutation::test_best_feature \u001b[32mPASSED\u001b[0m\u001b[32m [100%]\u001b[0m\n",
      "\n",
      "\u001b[32m============================== \u001b[32m\u001b[1m1 passed\u001b[0m\u001b[32m in 0.01s\u001b[0m\u001b[32m ===============================\u001b[0m\n",
      "\n",
      "\n",
      "💯 You can commit your code:\n",
      "\n",
      "\u001b[1;32mgit\u001b[39m add tests/feature_permutation.pickle\n",
      "\n",
      "\u001b[32mgit\u001b[39m commit -m \u001b[33m'Completed feature_permutation step'\u001b[39m\n",
      "\n",
      "\u001b[32mgit\u001b[39m push origin master\n",
      "\n"
     ]
    }
   ],
   "source": [
    "from nbresult import ChallengeResult\n",
    "\n",
    "result = ChallengeResult('feature_permutation',\n",
    "                         feature=best_feature\n",
    ")\n",
    "\n",
    "result.write()\n",
    "print(result.check())"
   ]
  },
  {
   "cell_type": "markdown",
   "metadata": {
    "id": "XH766K32voPu"
   },
   "source": [
    "## (4) Modelling with less complexity"
   ]
  },
  {
   "cell_type": "markdown",
   "metadata": {
    "id": "tfBy6tPqvoPu"
   },
   "source": [
    "❓ Drop the weak features and cross-validate a new model ❓\n",
    "\n",
    "* You should aim at maintaining a score close to the previous one.\n",
    "* Save the score under variable name `simplified_model_score`.\n",
    "\n",
    "<details>\n",
    "    <summary>💡 Hint</summary>\n",
    "    \n",
    "You can try dropping features one by one starting from the ones lowest importance until your model score starts dropping significantly.\n",
    "</details>"
   ]
  },
  {
   "cell_type": "code",
   "execution_count": 140,
   "metadata": {},
   "outputs": [],
   "source": [
    "X = data.drop(['SalePrice','KitchenAbvGr'],axis=1)\n",
    "y = data['SalePrice']"
   ]
  },
  {
   "cell_type": "code",
   "execution_count": 141,
   "metadata": {
    "colab": {
     "base_uri": "https://localhost:8080/"
    },
    "id": "tV6qKC9ivoPu",
    "outputId": "1a72538f-67fe-43a9-b0fe-4469a1c3c8cb",
    "tags": [
     "challengify"
    ]
   },
   "outputs": [
    {
     "data": {
      "text/plain": [
       "0.602092472676054"
      ]
     },
     "execution_count": 141,
     "metadata": {},
     "output_type": "execute_result"
    }
   ],
   "source": [
    "model = LinearRegression()\n",
    "X_train, X_test, y_train, y_test = train_test_split(X, y, test_size=0.3, random_state=42)\n",
    "cv_results = cross_validate(model, X_train, y_train, cv=5)\n",
    "simplified_model_score = cv_results['test_score'].mean()\n",
    "simplified_model_score"
   ]
  },
  {
   "cell_type": "markdown",
   "metadata": {
    "id": "JLUXA9AMvoPu"
   },
   "source": [
    "🧪 **Test your code**"
   ]
  },
  {
   "cell_type": "code",
   "execution_count": 142,
   "metadata": {
    "id": "WSPtEG6NvoPu",
    "outputId": "302aba72-4641-456f-a53b-c76e1a838d89"
   },
   "outputs": [
    {
     "name": "stdout",
     "output_type": "stream",
     "text": [
      "\n",
      "\u001b[1m============================= test session starts ==============================\u001b[0m\n",
      "platform linux -- Python 3.10.6, pytest-7.1.3, pluggy-1.0.0 -- /home/andreza/.pyenv/versions/3.10.6/envs/lewagon/bin/python\n",
      "cachedir: .pytest_cache\n",
      "rootdir: /home/andreza/code/andrezaumbelino/05-ML/02-Prepare-the-dataset/data-feature-selection/tests\n",
      "plugins: typeguard-2.13.3, asyncio-0.19.0, anyio-3.6.2\n",
      "asyncio: mode=strict\n",
      "\u001b[1mcollecting ... \u001b[0mcollected 1 item\n",
      "\n",
      "test_reduced_complexity_model.py::TestReduced_complexity_model::test_reduced_complexity_score \u001b[32mPASSED\u001b[0m\u001b[32m [100%]\u001b[0m\n",
      "\n",
      "\u001b[32m============================== \u001b[32m\u001b[1m1 passed\u001b[0m\u001b[32m in 0.07s\u001b[0m\u001b[32m ===============================\u001b[0m\n",
      "\n",
      "\n",
      "💯 You can commit your code:\n",
      "\n",
      "\u001b[1;32mgit\u001b[39m add tests/reduced_complexity_model.pickle\n",
      "\n",
      "\u001b[32mgit\u001b[39m commit -m \u001b[33m'Completed reduced_complexity_model step'\u001b[39m\n",
      "\n",
      "\u001b[32mgit\u001b[39m push origin master\n",
      "\n"
     ]
    }
   ],
   "source": [
    "from nbresult import ChallengeResult\n",
    "\n",
    "result = ChallengeResult('reduced_complexity_model',\n",
    "                         model_score=simplified_model_score\n",
    ")\n",
    "\n",
    "result.write()\n",
    "print(result.check())"
   ]
  },
  {
   "cell_type": "markdown",
   "metadata": {
    "id": "Oq0Iwi87voPu"
   },
   "source": [
    "P.S. Do you remember your score before preprocessing from Challenge #1? How is it different after preprocessing?"
   ]
  },
  {
   "cell_type": "markdown",
   "metadata": {
    "id": "1SvzOKNKvoPu"
   },
   "source": [
    "🏁 Congratulations! Now, you know a bit more how to do ***feature selection*** !\n",
    "\n",
    "💾 Don't forget to git add/commit/push your notebook...\n",
    "\n",
    "🚀 ... and move on to the next challenge!"
   ]
  }
 ],
 "metadata": {
  "kernelspec": {
   "display_name": "Python 3 (ipykernel)",
   "language": "python",
   "name": "python3"
  },
  "language_info": {
   "codemirror_mode": {
    "name": "ipython",
    "version": 3
   },
   "file_extension": ".py",
   "mimetype": "text/x-python",
   "name": "python",
   "nbconvert_exporter": "python",
   "pygments_lexer": "ipython3",
   "version": "3.10.6"
  },
  "toc": {
   "base_numbering": 1,
   "nav_menu": {},
   "number_sections": true,
   "sideBar": true,
   "skip_h1_title": false,
   "title_cell": "Table of Contents",
   "title_sidebar": "Contents",
   "toc_cell": false,
   "toc_position": {},
   "toc_section_display": true,
   "toc_window_display": false
  }
 },
 "nbformat": 4,
 "nbformat_minor": 1
}
