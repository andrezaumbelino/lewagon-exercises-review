{
 "cells": [
  {
   "cell_type": "code",
   "execution_count": 30,
   "metadata": {},
   "outputs": [],
   "source": [
    "import sqlite3\n",
    "conn = sqlite3.connect('/home/andreza/code/andrezaumbelino/01-Python/04-SQL-Advanced/data-back_to_school_query/data/school.sqlite')\n",
    "c = conn.cursor()"
   ]
  },
  {
   "cell_type": "code",
   "execution_count": 39,
   "metadata": {},
   "outputs": [
    {
     "name": "stdout",
     "output_type": "stream",
     "text": [
      "['Oran', 'Bertha', 'Neha', 'Ignacy', 'Shirley']\n"
     ]
    }
   ],
   "source": [
    "def students_from_city(db, city):\n",
    "    \"\"\"return a list of students from a specific city\"\"\"\n",
    "    query = \"\"\"\n",
    "    SELECT * FROM students\n",
    "    WHERE birth_city = ?\n",
    "    \"\"\"\n",
    "    db.execute(query,(city,))\n",
    "    results = db.fetchall()\n",
    "    return [result[1] for result in results]\n",
    "print(students_from_city(c,'Paris',))"
   ]
  },
  {
   "cell_type": "code",
   "execution_count": null,
   "metadata": {},
   "outputs": [],
   "source": []
  },
  {
   "cell_type": "code",
   "execution_count": null,
   "metadata": {},
   "outputs": [],
   "source": []
  },
  {
   "cell_type": "code",
   "execution_count": null,
   "metadata": {},
   "outputs": [],
   "source": []
  }
 ],
 "metadata": {
  "kernelspec": {
   "display_name": "Python 3",
   "language": "python",
   "name": "python3"
  },
  "language_info": {
   "codemirror_mode": {
    "name": "ipython",
    "version": 3
   },
   "file_extension": ".py",
   "mimetype": "text/x-python",
   "name": "python",
   "nbconvert_exporter": "python",
   "pygments_lexer": "ipython3",
   "version": "3.10.6"
  }
 },
 "nbformat": 4,
 "nbformat_minor": 2
}
