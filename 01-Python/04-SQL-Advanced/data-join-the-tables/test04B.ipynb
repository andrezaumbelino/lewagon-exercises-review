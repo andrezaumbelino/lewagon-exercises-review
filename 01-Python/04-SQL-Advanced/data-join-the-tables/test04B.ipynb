{
 "cells": [
  {
   "cell_type": "code",
   "execution_count": 2,
   "metadata": {},
   "outputs": [],
   "source": [
    "import sqlite3\n",
    "conn = sqlite3.connect('data/ecommerce.sqlite')\n",
    "c = conn.cursor()\n"
   ]
  },
  {
   "cell_type": "code",
   "execution_count": 3,
   "metadata": {},
   "outputs": [
    {
     "name": "stdout",
     "output_type": "stream",
     "text": [
      "[(1, 'Dick Terrcotta', 'James'), (2, 'Barbara Berber', 'Patty'), (3, 'Toni Faucet', 'James'), (4, 'Barbara Berber', 'Lisa'), (5, 'Toni Faucet', 'Patty'), (6, 'Jim Wood', 'Robert'), (7, 'Toni Faucet', 'Robert'), (8, 'Dick Terrcotta', 'Lisa'), (9, 'Barbara Berber', 'James'), (10, 'Jim Wood', 'Patty'), (11, 'Jim Wood', 'Robert'), (12, 'Dick Terrcotta', 'Lisa'), (13, 'Jack Diamond III', 'Robert'), (14, 'Barbara Berber', 'Patty'), (15, 'Toni Faucet', 'Patty'), (16, 'Jim Wood', 'Lisa'), (17, 'Jack Diamond III', 'James'), (18, 'Jim Wood', 'Robert'), (19, 'Barbara Berber', 'Lisa'), (20, 'Jim Wood', 'James')]\n"
     ]
    }
   ],
   "source": [
    "def detailed_orders(db):\n",
    "    '''return a list of all orders (order_id, customer.contact_name,\n",
    "    employee.firstname) ordered by order_id'''\n",
    "    query = \"\"\"\n",
    "    SELECT ord.OrderID as order_id,\n",
    "    cus.ContactName as customer_name,\n",
    "    emp.FirstName as employee_first_name\n",
    "    FROM Orders ord\n",
    "    JOIN Employees emp ON emp.EmployeeID = ord.EmployeeID\n",
    "    JOIN Customers cus ON cus.CustomerID = ord.CustomerID\n",
    "    ORDER BY ord.OrderID\n",
    "    \"\"\"\n",
    "    db.execute(query)\n",
    "    results = db.fetchall()\n",
    "    return results\n",
    "print(detailed_orders(c))\n"
   ]
  },
  {
   "cell_type": "code",
   "execution_count": 33,
   "metadata": {},
   "outputs": [
    {
     "name": "stdout",
     "output_type": "stream",
     "text": [
      "[(3, 'Jim Wood', 1597.9), (1, 'Dick Terrcotta', 2021.7), (5, 'Jack Diamond III', 2192.6), (2, 'Barbara Berber', 5156.2), (4, 'Toni Faucet', 8700.1)]\n"
     ]
    }
   ],
   "source": [
    "def spent_per_customer(db):\n",
    "    '''return the total amount spent per customer ordered by ascending total\n",
    "    amount (to 2 decimal places)\n",
    "    Exemple :\n",
    "        Jean   |   100\n",
    "        Marc   |   110\n",
    "        Simon  |   432\n",
    "        ...\n",
    "    '''\n",
    "    query= \"\"\"\n",
    "    SELECT c.CustomerID, c.ContactName,\n",
    "    ROUND(SUM(od.UnitPrice * od.Quantity),2) AS total\n",
    "    FROM OrderDetails od\n",
    "    JOIN Orders o\n",
    "    ON o.OrderID = od.OrderID\n",
    "    JOIN Customers c\n",
    "    ON o.CustomerID = c.CustomerID\n",
    "    GROUP BY c.ContactName\n",
    "    ORDER BY total ASC\n",
    "    \"\"\"\n",
    "    c.execute(query)\n",
    "    results = c.fetchall()\n",
    "    return results\n",
    "\n",
    "print(spent_per_customer(c))"
   ]
  },
  {
   "cell_type": "code",
   "execution_count": 29,
   "metadata": {},
   "outputs": [
    {
     "name": "stdout",
     "output_type": "stream",
     "text": [
      "['andreza', 11.5959, 'vinicius', 2]\n"
     ]
    }
   ],
   "source": [
    "results = [('andreza', 11.59589654), ('vinicius', 2)]\n",
    "lista = []\n",
    "for result in results:\n",
    "    lista.append(result[0])\n",
    "    lista.append(round(result[1],4))\n",
    "print(lista)\n"
   ]
  },
  {
   "cell_type": "code",
   "execution_count": 32,
   "metadata": {},
   "outputs": [
    {
     "ename": "AttributeError",
     "evalue": "'tuple' object has no attribute 'append'",
     "output_type": "error",
     "traceback": [
      "\u001b[0;31m---------------------------------------------------------------------------\u001b[0m",
      "\u001b[0;31mAttributeError\u001b[0m                            Traceback (most recent call last)",
      "Cell \u001b[0;32mIn [32], line 28\u001b[0m\n\u001b[1;32m     25\u001b[0m             lista\u001b[38;5;241m.\u001b[39mappend(\u001b[38;5;28mround\u001b[39m(result[\u001b[38;5;241m1\u001b[39m],\u001b[38;5;241m4\u001b[39m))\n\u001b[1;32m     26\u001b[0m     \u001b[38;5;28;01mreturn\u001b[39;00m lista\n\u001b[0;32m---> 28\u001b[0m \u001b[38;5;28mprint\u001b[39m(\u001b[43mspent_per_customer\u001b[49m\u001b[43m(\u001b[49m\u001b[43mc\u001b[49m\u001b[43m)\u001b[49m)\n",
      "Cell \u001b[0;32mIn [32], line 24\u001b[0m, in \u001b[0;36mspent_per_customer\u001b[0;34m(db)\u001b[0m\n\u001b[1;32m     22\u001b[0m lista \u001b[38;5;241m=\u001b[39m ()\n\u001b[1;32m     23\u001b[0m \u001b[38;5;28;01mfor\u001b[39;00m result \u001b[38;5;129;01min\u001b[39;00m results:\n\u001b[0;32m---> 24\u001b[0m         \u001b[43mlista\u001b[49m\u001b[38;5;241;43m.\u001b[39;49m\u001b[43mappend\u001b[49m(result[\u001b[38;5;241m0\u001b[39m])\n\u001b[1;32m     25\u001b[0m         lista\u001b[38;5;241m.\u001b[39mappend(\u001b[38;5;28mround\u001b[39m(result[\u001b[38;5;241m1\u001b[39m],\u001b[38;5;241m4\u001b[39m))\n\u001b[1;32m     26\u001b[0m \u001b[38;5;28;01mreturn\u001b[39;00m lista\n",
      "\u001b[0;31mAttributeError\u001b[0m: 'tuple' object has no attribute 'append'"
     ]
    }
   ],
   "source": [
    "def spent_per_customer(db):\n",
    "    '''return the total amount spent per customer ordered by ascending total\n",
    "    amount (to 2 decimal places)\n",
    "    Exemple :\n",
    "        Jean   |   100\n",
    "        Marc   |   110\n",
    "        Simon  |   432\n",
    "        ...\n",
    "    '''\n",
    "    query= \"\"\"\n",
    "    SELECT c.ContactName,\n",
    "    SUM(od.UnitPrice * od.Quantity) AS total\n",
    "    FROM OrderDetails od\n",
    "    JOIN Orders o\n",
    "    ON o.OrderID = od.OrderID\n",
    "    JOIN Customers c\n",
    "    ON o.CustomerID = c.CustomerID\n",
    "    GROUP BY c.ContactName\n",
    "    \"\"\"\n",
    "    c.execute(query)\n",
    "    results = c.fetchall()\n",
    "    lista = ()\n",
    "    for result in results:\n",
    "            lista.append(result[0])\n",
    "            lista.append(round(result[1],4))\n",
    "    return lista\n",
    "\n",
    "print(spent_per_customer(c))"
   ]
  },
  {
   "cell_type": "code",
   "execution_count": null,
   "metadata": {},
   "outputs": [
    {
     "name": "stdout",
     "output_type": "stream",
     "text": [
      "[('Patty', 'Lee', 7946.0), ('James', 'White', 4853.0), ('Lisa', 'Baker', 4208.0), ('Robert', 'Smith', 2663.0)]\n"
     ]
    }
   ],
   "source": [
    "def best_employee(db):\n",
    "    query = \"\"\"SELECT e.FirstName, e.LastName,\n",
    "    ROUND(SUM(od.UnitPrice * od.Quantity),0) AS total\n",
    "    FROM OrderDetails od\n",
    "    JOIN Orders o\n",
    "    ON o.OrderID = od.OrderID\n",
    "    JOIN Employees e\n",
    "    ON o.EmployeeID = e.EmployeeID\n",
    "    GROUP BY o.EmployeeID\n",
    "    ORDER BY total DESC\n",
    "    \"\"\"\n",
    "    c.execute(query)\n",
    "    results = c.fetchall()\n",
    "    return results\n",
    "\n",
    "print(best_employee(c))"
   ]
  }
 ],
 "metadata": {
  "kernelspec": {
   "display_name": "Python 3",
   "language": "python",
   "name": "python3"
  },
  "language_info": {
   "codemirror_mode": {
    "name": "ipython",
    "version": 3
   },
   "file_extension": ".py",
   "mimetype": "text/x-python",
   "name": "python",
   "nbconvert_exporter": "python",
   "pygments_lexer": "ipython3",
   "version": "3.10.6"
  }
 },
 "nbformat": 4,
 "nbformat_minor": 2
}
