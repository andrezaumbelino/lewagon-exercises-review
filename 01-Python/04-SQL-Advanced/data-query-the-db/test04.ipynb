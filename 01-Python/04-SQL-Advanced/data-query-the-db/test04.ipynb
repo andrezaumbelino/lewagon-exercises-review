{
 "cells": [
  {
   "cell_type": "code",
   "execution_count": 3,
   "metadata": {},
   "outputs": [],
   "source": [
    "import sqlite3\n",
    "conn = sqlite3.connect('data/ecommerce.sqlite')\n",
    "c = conn.cursor()\n"
   ]
  },
  {
   "cell_type": "code",
   "execution_count": 4,
   "metadata": {},
   "outputs": [
    {
     "name": "stdout",
     "output_type": "stream",
     "text": [
      "[(1, 1, 1, '2012-01-04', '2012-01-09', '2012-01-05', 1, 3.75), (2, 2, 2, '2012-01-27', '2012-02-01', '2012-01-28', 1, 7.25), (3, 4, 1, '2012-02-19', '2012-02-24', '2012-02-23', 2, 5.5), (4, 2, 4, '2012-03-13', '2012-03-18', '2012-03-14', 2, 13.5), (5, 4, 2, '2012-04-05', '2012-04-10', '2012-04-06', 3, 8.75), (6, 3, 3, '2012-04-28', '2012-05-03', '2012-04-29', 2, 11.0), (7, 4, 3, '2012-05-21', '2012-05-26', '2012-05-22', 1, 11.25), (8, 1, 4, '2012-06-13', '2012-06-18', '2012-06-14', 4, 13.5), (9, 2, 1, '2012-07-06', '2012-07-11', '2012-07-07', 3, 4.75), (10, 3, 2, '2012-07-29', '2012-08-03', '2012-08-04', 1, 7.75), (11, 3, 3, '2012-08-21', '2012-08-26', '2012-08-22', 4, 11.5), (12, 1, 4, '2012-09-13', '2012-09-18', '2012-09-14', 2, 13.0), (13, 5, 3, '2012-10-06', '2012-10-11', '2012-10-07', 3, 12.25), (14, 2, 2, '2012-10-29', '2012-11-03', '2012-10-30', 2, 7.5), (15, 4, 2, '2012-11-21', '2012-11-26', '2012-11-22', 1, 8.25), (16, 3, 4, '2012-12-14', '2012-12-19', '2012-12-15', 2, 14.0), (17, 5, 1, '2013-01-06', '2013-01-11', '2013-01-07', 3, 6.25), (18, 3, 3, '2013-01-29', '2013-02-03', '2013-01-30', 1, 10.75), (19, 2, 4, '2013-02-21', '2013-02-26', '2013-03-01', 4, 14.0), (20, 3, 1, '2013-03-16', '2013-03-21', '2013-03-17', 4, 5.5)]\n"
     ]
    }
   ],
   "source": [
    "def query_orders(db):\n",
    "    query = \"\"\"SELECT * FROM Orders\n",
    "    ORDER BY OrderID \"\"\"\n",
    "    db.execute(query)\n",
    "    results = db.fetchall()\n",
    "    return [result for result in results]\n",
    "print(query_orders(c))"
   ]
  },
  {
   "cell_type": "code",
   "execution_count": 5,
   "metadata": {},
   "outputs": [
    {
     "name": "stdout",
     "output_type": "stream",
     "text": [
      "<class 'str'>\n"
     ]
    }
   ],
   "source": [
    "c.execute(\"SELECT * FROM Orders\")\n",
    "resultado = c.fetchall()\n",
    "resultado2 = type(resultado[0][5])\n",
    "print(resultado2)"
   ]
  },
  {
   "cell_type": "code",
   "execution_count": 6,
   "metadata": {},
   "outputs": [
    {
     "name": "stdout",
     "output_type": "stream",
     "text": [
      "[16, 17]\n"
     ]
    }
   ],
   "source": [
    "def get_orders_range(db, date_from, date_to):\n",
    "    query = \"\"\"SELECT * FROM Orders\n",
    "    WHERE OrderDate > ? AND OrderDate < ?\"\"\"\n",
    "    db.execute(query,(date_from,date_to))\n",
    "    results = db.fetchall()\n",
    "    return [result[0] for result in results]\n",
    "print(get_orders_range(c,'2012-11-21','2013-01-29'))"
   ]
  },
  {
   "cell_type": "code",
   "execution_count": 9,
   "metadata": {},
   "outputs": [
    {
     "name": "stdout",
     "output_type": "stream",
     "text": [
      "[(1, '2012-01-04', '2012-01-05', 1.0), (2, '2012-01-27', '2012-01-28', 1.0), (3, '2012-02-19', '2012-02-23', 4.0), (4, '2012-03-13', '2012-03-14', 1.0), (5, '2012-04-05', '2012-04-06', 1.0), (6, '2012-04-28', '2012-04-29', 1.0), (7, '2012-05-21', '2012-05-22', 1.0), (8, '2012-06-13', '2012-06-14', 1.0), (9, '2012-07-06', '2012-07-07', 1.0), (10, '2012-07-29', '2012-08-04', 6.0), (11, '2012-08-21', '2012-08-22', 1.0), (12, '2012-09-13', '2012-09-14', 1.0), (13, '2012-10-06', '2012-10-07', 1.0), (14, '2012-10-29', '2012-10-30', 1.0), (15, '2012-11-21', '2012-11-22', 1.0), (16, '2012-12-14', '2012-12-15', 1.0), (17, '2013-01-06', '2013-01-07', 1.0), (18, '2013-01-29', '2013-01-30', 1.0), (19, '2013-02-21', '2013-03-01', 8.0), (20, '2013-03-16', '2013-03-17', 1.0)]\n"
     ]
    }
   ],
   "source": [
    "def get_waiting_time(db):\n",
    "    query = \"\"\"\n",
    "    SELECT OrderID, OrderDate, ShippedDate,\n",
    "    JULIANDAY(ShippedDate) - JULIANDAY(OrderDate)\n",
    "    as TimeDelta FROM Orders\n",
    "    \"\"\"\n",
    "    db.execute(query)\n",
    "    results = db.fetchall()\n",
    "    return results\n",
    "print(get_waiting_time(c))"
   ]
  }
 ],
 "metadata": {
  "kernelspec": {
   "display_name": "Python 3",
   "language": "python",
   "name": "python3"
  },
  "language_info": {
   "codemirror_mode": {
    "name": "ipython",
    "version": 3
   },
   "file_extension": ".py",
   "mimetype": "text/x-python",
   "name": "python",
   "nbconvert_exporter": "python",
   "pygments_lexer": "ipython3",
   "version": "3.10.6"
  }
 },
 "nbformat": 4,
 "nbformat_minor": 2
}
